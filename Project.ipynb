{
 "cells": [
  {
   "cell_type": "code",
   "execution_count": 141,
   "id": "ba0c2cb0",
   "metadata": {},
   "outputs": [
    {
     "name": "stdout",
     "output_type": "stream",
     "text": [
      "1.12.1\n",
      "True\n"
     ]
    }
   ],
   "source": [
    "import torch\n",
    "import os\n",
    "import math\n",
    "\n",
    "\n",
    "import matplotlib.pyplot as plt\n",
    "from collections import Counter\n",
    "from itertools import chain\n",
    "from sklearn.model_selection import StratifiedKFold\n",
    "from sklearn.metrics import accuracy_score, f1_score\n",
    "from sklearn.model_selection import train_test_split\n",
    "from sklearn.utils import gen_batches\n",
    "from torchvision import datasets, transforms\n",
    "import torch.nn as nn\n",
    "import torch.nn.functional as F\n",
    "from torch.utils.data import DataLoader, random_split\n",
    "import torch.optim as optim\n",
    "from copy import deepcopy\n",
    "from time import time\n",
    "import numpy as np\n",
    "from PIL import Image\n",
    "\n",
    "\n",
    "# just to ignore the matplotlib warnings to make the plots look better\n",
    "import warnings\n",
    "warnings.filterwarnings('ignore')\n",
    "# test whether the cuda is available\n",
    "# os.environ['CUDA_VISIBLE_DEVICES'] = '0'\n",
    "print(torch.__version__)\n",
    "print(torch.cuda.is_available())"
   ]
  },
  {
   "cell_type": "code",
   "execution_count": 142,
   "id": "a3437eaf",
   "metadata": {},
   "outputs": [],
   "source": [
    "import pandas as pd\n",
    "train_biz=pd.read_csv('./train_photo_to_biz_ids.csv')\n",
    "test_biz=pd.read_csv('./test_photo_to_biz.csv')\n",
    "train=pd.read_csv('./train.csv')\n",
    "sub=pd.read_csv('./sample_submission.csv')"
   ]
  },
  {
   "cell_type": "code",
   "execution_count": 143,
   "id": "480b9f00",
   "metadata": {},
   "outputs": [],
   "source": [
    "#merging\n",
    "data=pd.merge(train_biz,train, on='business_id',how='left')\n",
    "data=data.dropna(subset=['labels'])\n",
    "\n",
    "data_test=pd.merge(test_biz,sub, on='business_id',how='left') "
   ]
  },
  {
   "cell_type": "code",
   "execution_count": 144,
   "id": "894aa50f",
   "metadata": {},
   "outputs": [],
   "source": [
    "# convert string to list of int\n",
    "labels=data['labels'].tolist()\n",
    "for index,x in enumerate(labels):\n",
    "     labels[index]= [int(c) for c in str(x).split(' ')]\n",
    "data['labels'] = labels"
   ]
  },
  {
   "cell_type": "code",
   "execution_count": 145,
   "id": "bdb441c1",
   "metadata": {},
   "outputs": [],
   "source": [
    "from sklearn import metrics, model_selection, preprocessing\n",
    "df_train, df_valid = model_selection.train_test_split(data, test_size=0.1, random_state=40)"
   ]
  },
  {
   "cell_type": "code",
   "execution_count": 146,
   "id": "0c453694",
   "metadata": {},
   "outputs": [],
   "source": [
    "from torch.utils.data.dataset import Dataset\n",
    "class NusDataset(Dataset):\n",
    "#     def __init__(self, data_path, data, transforms):\n",
    "    def __init__(self, data_path, data):\n",
    "#         self.transforms = transforms\n",
    "   \n",
    "        self.image_id = data['photo_id'].tolist()\n",
    "        self.labels=data['labels'].tolist()\n",
    "        \n",
    "        self.classes = [0,1,2,3,4,5,6,7,8]\n",
    "        self.data_path = data_path\n",
    "          \n",
    "        for index in range(len(self.labels)):\n",
    "            labels = self.labels[index]\n",
    "            vector=[0,0,0,0,0,0,0,0,0]\n",
    "            for i in range(9):\n",
    "                if i in labels:\n",
    "                    vector[i] = 1\n",
    "            self.labels[index] = np.array(vector, dtype=float)\n",
    "\n",
    "    def __getitem__(self, index):\n",
    "        label = self.labels[index]\n",
    "        img_path = os.path.join(self.data_path, str(self.image_id[index])+'.jpg')\n",
    "        img = Image.open(img_path)\n",
    "#         if self.transforms is not None:\n",
    "#             img = self.transforms(img)\n",
    "        return img, label\n",
    "\n",
    "        \n",
    "\n",
    "    def __len__(self):\n",
    "        return len(self.imgs)"
   ]
  },
  {
   "cell_type": "code",
   "execution_count": 147,
   "id": "98b83859",
   "metadata": {},
   "outputs": [],
   "source": [
    "dataset_val = NusDataset('./train_photos', df_valid)\n",
    "dataset_train = NusDataset('./train_photos', df_train)"
   ]
  }
 ],
 "metadata": {
  "kernelspec": {
   "display_name": "Python 3 (ipykernel)",
   "language": "python",
   "name": "python3"
  },
  "language_info": {
   "codemirror_mode": {
    "name": "ipython",
    "version": 3
   },
   "file_extension": ".py",
   "mimetype": "text/x-python",
   "name": "python",
   "nbconvert_exporter": "python",
   "pygments_lexer": "ipython3",
   "version": "3.10.6"
  }
 },
 "nbformat": 4,
 "nbformat_minor": 5
}
