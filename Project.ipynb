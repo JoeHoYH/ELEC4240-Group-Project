{
 "cells": [
  {
   "cell_type": "code",
   "execution_count": 1,
   "id": "ba0c2cb0",
   "metadata": {},
   "outputs": [
    {
     "name": "stdout",
     "output_type": "stream",
     "text": [
      "1.12.1\n",
      "True\n"
     ]
    }
   ],
   "source": [
    "import torch\n",
    "import os\n",
    "import math\n",
    "\n",
    "import matplotlib\n",
    "import matplotlib.pyplot as plt\n",
    "import matplotlib.ticker as ticker\n",
    "from collections import Counter\n",
    "from itertools import chain\n",
    "from sklearn.model_selection import StratifiedKFold\n",
    "from sklearn.metrics import accuracy_score, f1_score, precision_score, recall_score\n",
    "from sklearn.model_selection import train_test_split\n",
    "from sklearn.utils import gen_batches\n",
    "from torchvision import datasets, transforms\n",
    "import torch.nn as nn\n",
    "import torch.nn.functional as F\n",
    "from torch.utils.data import DataLoader, random_split\n",
    "import torch.optim as optim\n",
    "from copy import deepcopy\n",
    "from time import time\n",
    "import numpy as np\n",
    "from PIL import Image\n",
    "from torchvision import models\n",
    "from tqdm import tqdm\n",
    "\n",
    "# just to ignore the matplotlib warnings to make the plots look better\n",
    "import warnings\n",
    "warnings.filterwarnings('ignore')\n",
    "# test whether the cuda is available\n",
    "# os.environ['CUDA_VISIBLE_DEVICES'] = '0'\n",
    "print(torch.__version__)\n",
    "print(torch.cuda.is_available())"
   ]
  },
  {
   "cell_type": "code",
   "execution_count": 2,
   "id": "a3437eaf",
   "metadata": {},
   "outputs": [],
   "source": [
    "import pandas as pd\n",
    "train_biz=pd.read_csv('./train_photo_to_biz_ids.csv')\n",
    "test_biz=pd.read_csv('./test_photo_to_biz.csv')\n",
    "train=pd.read_csv('./train.csv')\n",
    "sub=pd.read_csv('./sample_submission.csv')"
   ]
  },
  {
   "cell_type": "code",
   "execution_count": 3,
   "id": "480b9f00",
   "metadata": {},
   "outputs": [],
   "source": [
    "# merging\n",
    "data=pd.merge(train_biz,train, on='business_id',how='left')\n",
    "# drop data that missing labels\n",
    "data=data.dropna(subset=['labels'])\n",
    "\n",
    "# for competition only\n",
    "data_task=pd.merge(test_biz,sub, on='business_id',how='left') "
   ]
  },
  {
   "cell_type": "code",
   "execution_count": 4,
   "id": "894aa50f",
   "metadata": {},
   "outputs": [],
   "source": [
    "# convert string to list of int\n",
    "labels=data['labels'].tolist()\n",
    "for index,x in enumerate(labels):\n",
    "     labels[index]= [int(c) for c in str(x).split(' ')]\n",
    "data['labels'] = labels"
   ]
  },
  {
   "cell_type": "code",
   "execution_count": 5,
   "id": "bdb441c1",
   "metadata": {},
   "outputs": [],
   "source": [
    "# use small data set for development\n",
    "development_size=0.005\n",
    "unsued_data,data = train_test_split(data,test_size=development_size, random_state=40)\n",
    "\n",
    "train_data, test_data = train_test_split(data, test_size=0.1, random_state=40)\n",
    "train_data, val_data = train_test_split(train_data, test_size=0.1, random_state=40)\n"
   ]
  },
  {
   "cell_type": "code",
   "execution_count": 6,
   "id": "0c453694",
   "metadata": {},
   "outputs": [],
   "source": [
    "# Define dataset class\n",
    "from torch.utils.data.dataset import Dataset\n",
    "\n",
    "class Image_Dataset(Dataset):\n",
    "    def __init__(self, data_path, data, transform=None):\n",
    "        self.image_id = data['photo_id'].tolist()\n",
    "        self.labels=data['labels'].tolist()\n",
    "        self.transform = transform\n",
    "        self.data_path = data_path\n",
    "        self.classes = [0,1,2,3,4,5,6,7,8]\n",
    "        \n",
    "          \n",
    "        for index in range(len(self.labels)):\n",
    "            labels = self.labels[index]\n",
    "            vector=[0,0,0,0,0,0,0,0,0]\n",
    "            for i in range(9):\n",
    "                if i in labels:\n",
    "                    vector[i] = 1\n",
    "            self.labels[index] = np.array(vector, dtype=float)\n",
    "\n",
    "    def __getitem__(self, index):\n",
    "        label = self.labels[index]\n",
    "        img_path = os.path.join(self.data_path, str(self.image_id[index])+'.jpg')\n",
    "        img = Image.open(img_path)\n",
    "        if self.transform:\n",
    "            # dont know why all output of the transform are negative\n",
    "            img = -self.transform(img)\n",
    "        return img, label\n",
    "    def __len__(self):\n",
    "        return len(self.image_id)\n",
    "\n"
   ]
  },
  {
   "cell_type": "code",
   "execution_count": 7,
   "id": "46a29a45",
   "metadata": {},
   "outputs": [],
   "source": [
    "# transformation\n",
    "\n",
    "mean = [0.485,0.456,0.406]\n",
    "std = [0.229,0.224,0.225]\n",
    "train_transform = transforms.Compose([\n",
    "        transforms.Resize([256, 256]),\n",
    "        transforms.ColorJitter(),\n",
    "        transforms.RandomHorizontalFlip(),\n",
    "        transforms.ToTensor(),\n",
    "        transforms.Normalize(mean=mean, std=std),\n",
    "        ])\n",
    "\n",
    "val_transform = transforms.Compose([\n",
    "    transforms.Resize((256, 256)),\n",
    "    transforms.ToTensor(),\n",
    "    transforms.Normalize(mean, std)\n",
    "])\n"
   ]
  },
  {
   "cell_type": "code",
   "execution_count": 8,
   "id": "98b83859",
   "metadata": {},
   "outputs": [],
   "source": [
    "train_dataset = Image_Dataset('./train_photos', train_data, train_transform)\n",
    "val_dataset = Image_Dataset('./train_photos', val_data, val_transform)\n",
    "test_dataset = Image_Dataset('./train_photos', test_data, val_transform)"
   ]
  },
  {
   "cell_type": "code",
   "execution_count": 9,
   "id": "3317a41e",
   "metadata": {},
   "outputs": [],
   "source": [
    "# this part can be tuned\n",
    "class Resnext50(nn.Module):\n",
    "    def __init__(self):\n",
    "        super().__init__()\n",
    "        resnet = models.resnext50_32x4d(pretrained=True)\n",
    "        resnet.fc = nn.Sequential(\n",
    "            nn.Dropout(p=0.2),\n",
    "            nn.Linear(in_features=resnet.fc.in_features, out_features=9)\n",
    "        )\n",
    "        self.model = resnet\n",
    "        self.activation = nn.Sigmoid()\n",
    "\n",
    "    def forward(self, x):\n",
    "        return self.activation(self.model(x))"
   ]
  },
  {
   "cell_type": "code",
   "execution_count": 10,
   "id": "fe349bfd",
   "metadata": {},
   "outputs": [],
   "source": [
    "# this part can be tuned\n",
    "\n",
    "device = torch.device('cuda')\n",
    "save_path = 'chekpoints/'\n",
    "logdir = 'logs/'\n",
    "\n",
    "device = 'cuda'\n",
    "model = Resnext50()\n",
    "optimizer = optim.SGD(model.parameters(), lr=0.1)\n",
    "loss_func = nn.BCELoss()\n",
    "\n",
    "epoch = 5\n",
    "batch_size= 32\n",
    "# lr = 1e-4 \n",
    "\n",
    "\n",
    "\n",
    "\n",
    "\n",
    "train_dataloader = DataLoader(train_dataset, batch_size=batch_size,  shuffle=True,drop_last=True)\n",
    "val_dataloader = DataLoader(val_dataset, batch_size=batch_size)\n",
    "test_dataloader = DataLoader(test_dataset, batch_size=batch_size)\n"
   ]
  },
  {
   "cell_type": "code",
   "execution_count": 11,
   "id": "344b0a8c",
   "metadata": {},
   "outputs": [],
   "source": [
    "def train(model, optimizer,  device):\n",
    "    train_precision = []\n",
    "    train_recall=[]\n",
    "    train_loss = []\n",
    "    \n",
    "    val_precision = []\n",
    "    val_recall=[]\n",
    "    val_loss = []\n",
    "    \n",
    "    best_f1 = 0\n",
    "    best_model = None\n",
    "    best_i = 0\n",
    "    \n",
    "    \n",
    "    model = model.to(device)\n",
    "    \n",
    "    for i in range(epoch):\n",
    "        model.train()\n",
    "        \n",
    "        batch_precision=[]\n",
    "        batch_recall=[]\n",
    "        batch_loss =[]\n",
    "        for images, labels in tqdm(train_dataloader):\n",
    "            images, labels = images.to(device), labels.to(device)\n",
    "            output = model(images)\n",
    "            loss = loss_func(output, labels.type(torch.float))\n",
    "            optimizer.zero_grad()\n",
    "            loss.backward()\n",
    "            optimizer.step()\n",
    "\n",
    "            with torch.no_grad():\n",
    "                pred = (output>0.5).cpu()\n",
    "                labels = labels.cpu()\n",
    "                batch_precision.append(precision_score(labels, pred,average='micro'))\n",
    "                batch_recall.append(recall_score(labels, pred,average='micro'))\n",
    "                batch_loss.append(loss.cpu())\n",
    "                \n",
    "        precision = np.array(batch_precision).mean()\n",
    "        recall = np.array(batch_recall).mean()\n",
    "        loss = np.array(batch_loss).mean()\n",
    "        \n",
    "        train_precision.append(precision)\n",
    "        train_recall.append(recall)\n",
    "        train_loss.append(loss)\n",
    "        print(\"train_precision:{:.4f}, train_recall:{:.4f}, train_loss:{:.4f}\".format(precision,recall,loss))\n",
    "\n",
    "        # validation\n",
    "        model.eval()\n",
    "        model_result = []\n",
    "        targets = []\n",
    "        with torch.no_grad():\n",
    "            for images, labels in tqdm(val_dataloader):\n",
    "                images = images.to(device)\n",
    "                model_batch_result = model(images)\n",
    "                model_result.extend(model_batch_result.cpu().numpy())\n",
    "                targets.extend(labels.cpu().numpy())\n",
    "        \n",
    "        loss = loss_func(torch.FloatTensor(model_result), torch.FloatTensor(targets))\n",
    "        pred = np.array(np.array(model_result) >0.5, dtype=float)\n",
    "        val_precision.append(precision_score(targets,pred,average='micro'))\n",
    "        val_recall.append(recall_score(targets,pred,average='micro'))\n",
    "        val_loss.append(loss.item())\n",
    "        f1 = f1_score(targets,pred,average='micro')\n",
    "        \n",
    "        if  f1> best_f1:\n",
    "            best_f1 = f1\n",
    "            best_model = deepcopy(model.state_dict())\n",
    "            best_i = i\n",
    "\n",
    "        if i % 20 == 0:\n",
    "            print('Epoch {}, val_precision:{:.4f}, val_recall:{:.4f}, val_loss:{:.4f}, f1:{:.4f}'.format(i, val_precision[-1],val_recall[-1],val_loss[-1],f1))\n",
    "\n",
    "    print('best epoch {}, train precision {:.4f} val precision {:.4f}, f1 {:.4f}'.format(best_i, train_precision[best_i], val_precision[best_i], best_f1))\n",
    "    model.load_state_dict(best_model)\n",
    "    return train_precision, train_recall, train_loss, val_precision, val_recall, val_loss"
   ]
  },
  {
   "cell_type": "code",
   "execution_count": 12,
   "id": "abbeb422",
   "metadata": {},
   "outputs": [],
   "source": [
    "def plot_graph(train_precision, train_recall, train_loss, val_precision, val_recall, val_loss):\n",
    "    x=range(1,epoch+1)\n",
    "    plt.xlabel(\"iteration\")\n",
    "    plt.plot(x,train_precision,label=\"train_precision\")\n",
    "    plt.plot(x,train_recall,label=\"train_recall\")\n",
    "    plt.plot(x,val_precision,label=\"val_precision\")\n",
    "    plt.plot(x,val_recall,label=\"val_recall\")\n",
    "    plt.legend(loc=\"upper left\")\n",
    "    plt.ylim([0,1])\n",
    "    xint = range(1, epoch+1)\n",
    "    matplotlib.pyplot.xticks(xint)\n",
    "\n",
    "    plt.show()\n",
    "\n",
    "    plt.xlabel(\"iteration\")\n",
    "    plt.plot(x,train_loss,label=\"train_loss\")\n",
    "    plt.plot(x,val_loss,label=\"val_loss\")\n",
    "    plt.legend(loc=\"lower left\")\n",
    "    xint = range(1, epoch+1)\n",
    "    matplotlib.pyplot.xticks(xint)\n",
    "    plt.show()"
   ]
  },
  {
   "cell_type": "code",
   "execution_count": 13,
   "id": "15386066",
   "metadata": {
    "scrolled": false
   },
   "outputs": [
    {
     "name": "stderr",
     "output_type": "stream",
     "text": [
      "100%|██████████████████████████████████████████████████████████████████████████████████| 29/29 [00:17<00:00,  1.70it/s]\n"
     ]
    },
    {
     "name": "stdout",
     "output_type": "stream",
     "text": [
      "train_precision:0.6611, train_recall:0.6914, train_loss:0.6250\n"
     ]
    },
    {
     "name": "stderr",
     "output_type": "stream",
     "text": [
      "100%|████████████████████████████████████████████████████████████████████████████████████| 4/4 [00:00<00:00,  4.97it/s]\n"
     ]
    },
    {
     "name": "stdout",
     "output_type": "stream",
     "text": [
      "Epoch 0, val_precision:0.6519, val_recall:0.8540, val_loss:0.5699, f1:0.7394\n"
     ]
    },
    {
     "name": "stderr",
     "output_type": "stream",
     "text": [
      "100%|██████████████████████████████████████████████████████████████████████████████████| 29/29 [00:14<00:00,  2.02it/s]\n"
     ]
    },
    {
     "name": "stdout",
     "output_type": "stream",
     "text": [
      "train_precision:0.7608, train_recall:0.7775, train_loss:0.5001\n"
     ]
    },
    {
     "name": "stderr",
     "output_type": "stream",
     "text": [
      "100%|████████████████████████████████████████████████████████████████████████████████████| 4/4 [00:00<00:00,  4.96it/s]\n",
      "100%|██████████████████████████████████████████████████████████████████████████████████| 29/29 [00:14<00:00,  2.02it/s]\n"
     ]
    },
    {
     "name": "stdout",
     "output_type": "stream",
     "text": [
      "train_precision:0.8348, train_recall:0.8208, train_loss:0.3914\n"
     ]
    },
    {
     "name": "stderr",
     "output_type": "stream",
     "text": [
      "100%|████████████████████████████████████████████████████████████████████████████████████| 4/4 [00:00<00:00,  5.02it/s]\n",
      "100%|██████████████████████████████████████████████████████████████████████████████████| 29/29 [00:14<00:00,  2.01it/s]\n"
     ]
    },
    {
     "name": "stdout",
     "output_type": "stream",
     "text": [
      "train_precision:0.8697, train_recall:0.8605, train_loss:0.3201\n"
     ]
    },
    {
     "name": "stderr",
     "output_type": "stream",
     "text": [
      "100%|████████████████████████████████████████████████████████████████████████████████████| 4/4 [00:00<00:00,  4.62it/s]\n",
      "100%|██████████████████████████████████████████████████████████████████████████████████| 29/29 [00:16<00:00,  1.72it/s]\n"
     ]
    },
    {
     "name": "stdout",
     "output_type": "stream",
     "text": [
      "train_precision:0.8845, train_recall:0.8829, train_loss:0.2879\n"
     ]
    },
    {
     "name": "stderr",
     "output_type": "stream",
     "text": [
      "100%|████████████████████████████████████████████████████████████████████████████████████| 4/4 [00:01<00:00,  3.26it/s]\n"
     ]
    },
    {
     "name": "stdout",
     "output_type": "stream",
     "text": [
      "best epoch 4, train precision 0.8845 val precision 0.7340, f1 0.7448\n"
     ]
    }
   ],
   "source": [
    "# Training\n",
    "\n",
    "torch.cuda.empty_cache()\n",
    "train_precision, train_recall, train_loss, val_precision, val_recall, val_loss = train(model, optimizer, device)\n",
    "\n",
    "\n"
   ]
  },
  {
   "cell_type": "code",
   "execution_count": 14,
   "id": "37c1f579",
   "metadata": {},
   "outputs": [],
   "source": [
    "# Save model\n",
    "PATH=\"./models/best_model.pt\"\n",
    "os.makedirs(\"models\", exist_ok=True)\n",
    "torch.save(model.state_dict(), PATH)"
   ]
  },
  {
   "cell_type": "code",
   "execution_count": 15,
   "id": "8bf14f09",
   "metadata": {
    "scrolled": true
   },
   "outputs": [
    {
     "data": {
      "text/plain": [
       "Resnext50(\n",
       "  (model): ResNet(\n",
       "    (conv1): Conv2d(3, 64, kernel_size=(7, 7), stride=(2, 2), padding=(3, 3), bias=False)\n",
       "    (bn1): BatchNorm2d(64, eps=1e-05, momentum=0.1, affine=True, track_running_stats=True)\n",
       "    (relu): ReLU(inplace=True)\n",
       "    (maxpool): MaxPool2d(kernel_size=3, stride=2, padding=1, dilation=1, ceil_mode=False)\n",
       "    (layer1): Sequential(\n",
       "      (0): Bottleneck(\n",
       "        (conv1): Conv2d(64, 128, kernel_size=(1, 1), stride=(1, 1), bias=False)\n",
       "        (bn1): BatchNorm2d(128, eps=1e-05, momentum=0.1, affine=True, track_running_stats=True)\n",
       "        (conv2): Conv2d(128, 128, kernel_size=(3, 3), stride=(1, 1), padding=(1, 1), groups=32, bias=False)\n",
       "        (bn2): BatchNorm2d(128, eps=1e-05, momentum=0.1, affine=True, track_running_stats=True)\n",
       "        (conv3): Conv2d(128, 256, kernel_size=(1, 1), stride=(1, 1), bias=False)\n",
       "        (bn3): BatchNorm2d(256, eps=1e-05, momentum=0.1, affine=True, track_running_stats=True)\n",
       "        (relu): ReLU(inplace=True)\n",
       "        (downsample): Sequential(\n",
       "          (0): Conv2d(64, 256, kernel_size=(1, 1), stride=(1, 1), bias=False)\n",
       "          (1): BatchNorm2d(256, eps=1e-05, momentum=0.1, affine=True, track_running_stats=True)\n",
       "        )\n",
       "      )\n",
       "      (1): Bottleneck(\n",
       "        (conv1): Conv2d(256, 128, kernel_size=(1, 1), stride=(1, 1), bias=False)\n",
       "        (bn1): BatchNorm2d(128, eps=1e-05, momentum=0.1, affine=True, track_running_stats=True)\n",
       "        (conv2): Conv2d(128, 128, kernel_size=(3, 3), stride=(1, 1), padding=(1, 1), groups=32, bias=False)\n",
       "        (bn2): BatchNorm2d(128, eps=1e-05, momentum=0.1, affine=True, track_running_stats=True)\n",
       "        (conv3): Conv2d(128, 256, kernel_size=(1, 1), stride=(1, 1), bias=False)\n",
       "        (bn3): BatchNorm2d(256, eps=1e-05, momentum=0.1, affine=True, track_running_stats=True)\n",
       "        (relu): ReLU(inplace=True)\n",
       "      )\n",
       "      (2): Bottleneck(\n",
       "        (conv1): Conv2d(256, 128, kernel_size=(1, 1), stride=(1, 1), bias=False)\n",
       "        (bn1): BatchNorm2d(128, eps=1e-05, momentum=0.1, affine=True, track_running_stats=True)\n",
       "        (conv2): Conv2d(128, 128, kernel_size=(3, 3), stride=(1, 1), padding=(1, 1), groups=32, bias=False)\n",
       "        (bn2): BatchNorm2d(128, eps=1e-05, momentum=0.1, affine=True, track_running_stats=True)\n",
       "        (conv3): Conv2d(128, 256, kernel_size=(1, 1), stride=(1, 1), bias=False)\n",
       "        (bn3): BatchNorm2d(256, eps=1e-05, momentum=0.1, affine=True, track_running_stats=True)\n",
       "        (relu): ReLU(inplace=True)\n",
       "      )\n",
       "    )\n",
       "    (layer2): Sequential(\n",
       "      (0): Bottleneck(\n",
       "        (conv1): Conv2d(256, 256, kernel_size=(1, 1), stride=(1, 1), bias=False)\n",
       "        (bn1): BatchNorm2d(256, eps=1e-05, momentum=0.1, affine=True, track_running_stats=True)\n",
       "        (conv2): Conv2d(256, 256, kernel_size=(3, 3), stride=(2, 2), padding=(1, 1), groups=32, bias=False)\n",
       "        (bn2): BatchNorm2d(256, eps=1e-05, momentum=0.1, affine=True, track_running_stats=True)\n",
       "        (conv3): Conv2d(256, 512, kernel_size=(1, 1), stride=(1, 1), bias=False)\n",
       "        (bn3): BatchNorm2d(512, eps=1e-05, momentum=0.1, affine=True, track_running_stats=True)\n",
       "        (relu): ReLU(inplace=True)\n",
       "        (downsample): Sequential(\n",
       "          (0): Conv2d(256, 512, kernel_size=(1, 1), stride=(2, 2), bias=False)\n",
       "          (1): BatchNorm2d(512, eps=1e-05, momentum=0.1, affine=True, track_running_stats=True)\n",
       "        )\n",
       "      )\n",
       "      (1): Bottleneck(\n",
       "        (conv1): Conv2d(512, 256, kernel_size=(1, 1), stride=(1, 1), bias=False)\n",
       "        (bn1): BatchNorm2d(256, eps=1e-05, momentum=0.1, affine=True, track_running_stats=True)\n",
       "        (conv2): Conv2d(256, 256, kernel_size=(3, 3), stride=(1, 1), padding=(1, 1), groups=32, bias=False)\n",
       "        (bn2): BatchNorm2d(256, eps=1e-05, momentum=0.1, affine=True, track_running_stats=True)\n",
       "        (conv3): Conv2d(256, 512, kernel_size=(1, 1), stride=(1, 1), bias=False)\n",
       "        (bn3): BatchNorm2d(512, eps=1e-05, momentum=0.1, affine=True, track_running_stats=True)\n",
       "        (relu): ReLU(inplace=True)\n",
       "      )\n",
       "      (2): Bottleneck(\n",
       "        (conv1): Conv2d(512, 256, kernel_size=(1, 1), stride=(1, 1), bias=False)\n",
       "        (bn1): BatchNorm2d(256, eps=1e-05, momentum=0.1, affine=True, track_running_stats=True)\n",
       "        (conv2): Conv2d(256, 256, kernel_size=(3, 3), stride=(1, 1), padding=(1, 1), groups=32, bias=False)\n",
       "        (bn2): BatchNorm2d(256, eps=1e-05, momentum=0.1, affine=True, track_running_stats=True)\n",
       "        (conv3): Conv2d(256, 512, kernel_size=(1, 1), stride=(1, 1), bias=False)\n",
       "        (bn3): BatchNorm2d(512, eps=1e-05, momentum=0.1, affine=True, track_running_stats=True)\n",
       "        (relu): ReLU(inplace=True)\n",
       "      )\n",
       "      (3): Bottleneck(\n",
       "        (conv1): Conv2d(512, 256, kernel_size=(1, 1), stride=(1, 1), bias=False)\n",
       "        (bn1): BatchNorm2d(256, eps=1e-05, momentum=0.1, affine=True, track_running_stats=True)\n",
       "        (conv2): Conv2d(256, 256, kernel_size=(3, 3), stride=(1, 1), padding=(1, 1), groups=32, bias=False)\n",
       "        (bn2): BatchNorm2d(256, eps=1e-05, momentum=0.1, affine=True, track_running_stats=True)\n",
       "        (conv3): Conv2d(256, 512, kernel_size=(1, 1), stride=(1, 1), bias=False)\n",
       "        (bn3): BatchNorm2d(512, eps=1e-05, momentum=0.1, affine=True, track_running_stats=True)\n",
       "        (relu): ReLU(inplace=True)\n",
       "      )\n",
       "    )\n",
       "    (layer3): Sequential(\n",
       "      (0): Bottleneck(\n",
       "        (conv1): Conv2d(512, 512, kernel_size=(1, 1), stride=(1, 1), bias=False)\n",
       "        (bn1): BatchNorm2d(512, eps=1e-05, momentum=0.1, affine=True, track_running_stats=True)\n",
       "        (conv2): Conv2d(512, 512, kernel_size=(3, 3), stride=(2, 2), padding=(1, 1), groups=32, bias=False)\n",
       "        (bn2): BatchNorm2d(512, eps=1e-05, momentum=0.1, affine=True, track_running_stats=True)\n",
       "        (conv3): Conv2d(512, 1024, kernel_size=(1, 1), stride=(1, 1), bias=False)\n",
       "        (bn3): BatchNorm2d(1024, eps=1e-05, momentum=0.1, affine=True, track_running_stats=True)\n",
       "        (relu): ReLU(inplace=True)\n",
       "        (downsample): Sequential(\n",
       "          (0): Conv2d(512, 1024, kernel_size=(1, 1), stride=(2, 2), bias=False)\n",
       "          (1): BatchNorm2d(1024, eps=1e-05, momentum=0.1, affine=True, track_running_stats=True)\n",
       "        )\n",
       "      )\n",
       "      (1): Bottleneck(\n",
       "        (conv1): Conv2d(1024, 512, kernel_size=(1, 1), stride=(1, 1), bias=False)\n",
       "        (bn1): BatchNorm2d(512, eps=1e-05, momentum=0.1, affine=True, track_running_stats=True)\n",
       "        (conv2): Conv2d(512, 512, kernel_size=(3, 3), stride=(1, 1), padding=(1, 1), groups=32, bias=False)\n",
       "        (bn2): BatchNorm2d(512, eps=1e-05, momentum=0.1, affine=True, track_running_stats=True)\n",
       "        (conv3): Conv2d(512, 1024, kernel_size=(1, 1), stride=(1, 1), bias=False)\n",
       "        (bn3): BatchNorm2d(1024, eps=1e-05, momentum=0.1, affine=True, track_running_stats=True)\n",
       "        (relu): ReLU(inplace=True)\n",
       "      )\n",
       "      (2): Bottleneck(\n",
       "        (conv1): Conv2d(1024, 512, kernel_size=(1, 1), stride=(1, 1), bias=False)\n",
       "        (bn1): BatchNorm2d(512, eps=1e-05, momentum=0.1, affine=True, track_running_stats=True)\n",
       "        (conv2): Conv2d(512, 512, kernel_size=(3, 3), stride=(1, 1), padding=(1, 1), groups=32, bias=False)\n",
       "        (bn2): BatchNorm2d(512, eps=1e-05, momentum=0.1, affine=True, track_running_stats=True)\n",
       "        (conv3): Conv2d(512, 1024, kernel_size=(1, 1), stride=(1, 1), bias=False)\n",
       "        (bn3): BatchNorm2d(1024, eps=1e-05, momentum=0.1, affine=True, track_running_stats=True)\n",
       "        (relu): ReLU(inplace=True)\n",
       "      )\n",
       "      (3): Bottleneck(\n",
       "        (conv1): Conv2d(1024, 512, kernel_size=(1, 1), stride=(1, 1), bias=False)\n",
       "        (bn1): BatchNorm2d(512, eps=1e-05, momentum=0.1, affine=True, track_running_stats=True)\n",
       "        (conv2): Conv2d(512, 512, kernel_size=(3, 3), stride=(1, 1), padding=(1, 1), groups=32, bias=False)\n",
       "        (bn2): BatchNorm2d(512, eps=1e-05, momentum=0.1, affine=True, track_running_stats=True)\n",
       "        (conv3): Conv2d(512, 1024, kernel_size=(1, 1), stride=(1, 1), bias=False)\n",
       "        (bn3): BatchNorm2d(1024, eps=1e-05, momentum=0.1, affine=True, track_running_stats=True)\n",
       "        (relu): ReLU(inplace=True)\n",
       "      )\n",
       "      (4): Bottleneck(\n",
       "        (conv1): Conv2d(1024, 512, kernel_size=(1, 1), stride=(1, 1), bias=False)\n",
       "        (bn1): BatchNorm2d(512, eps=1e-05, momentum=0.1, affine=True, track_running_stats=True)\n",
       "        (conv2): Conv2d(512, 512, kernel_size=(3, 3), stride=(1, 1), padding=(1, 1), groups=32, bias=False)\n",
       "        (bn2): BatchNorm2d(512, eps=1e-05, momentum=0.1, affine=True, track_running_stats=True)\n",
       "        (conv3): Conv2d(512, 1024, kernel_size=(1, 1), stride=(1, 1), bias=False)\n",
       "        (bn3): BatchNorm2d(1024, eps=1e-05, momentum=0.1, affine=True, track_running_stats=True)\n",
       "        (relu): ReLU(inplace=True)\n",
       "      )\n",
       "      (5): Bottleneck(\n",
       "        (conv1): Conv2d(1024, 512, kernel_size=(1, 1), stride=(1, 1), bias=False)\n",
       "        (bn1): BatchNorm2d(512, eps=1e-05, momentum=0.1, affine=True, track_running_stats=True)\n",
       "        (conv2): Conv2d(512, 512, kernel_size=(3, 3), stride=(1, 1), padding=(1, 1), groups=32, bias=False)\n",
       "        (bn2): BatchNorm2d(512, eps=1e-05, momentum=0.1, affine=True, track_running_stats=True)\n",
       "        (conv3): Conv2d(512, 1024, kernel_size=(1, 1), stride=(1, 1), bias=False)\n",
       "        (bn3): BatchNorm2d(1024, eps=1e-05, momentum=0.1, affine=True, track_running_stats=True)\n",
       "        (relu): ReLU(inplace=True)\n",
       "      )\n",
       "    )\n",
       "    (layer4): Sequential(\n",
       "      (0): Bottleneck(\n",
       "        (conv1): Conv2d(1024, 1024, kernel_size=(1, 1), stride=(1, 1), bias=False)\n",
       "        (bn1): BatchNorm2d(1024, eps=1e-05, momentum=0.1, affine=True, track_running_stats=True)\n",
       "        (conv2): Conv2d(1024, 1024, kernel_size=(3, 3), stride=(2, 2), padding=(1, 1), groups=32, bias=False)\n",
       "        (bn2): BatchNorm2d(1024, eps=1e-05, momentum=0.1, affine=True, track_running_stats=True)\n",
       "        (conv3): Conv2d(1024, 2048, kernel_size=(1, 1), stride=(1, 1), bias=False)\n",
       "        (bn3): BatchNorm2d(2048, eps=1e-05, momentum=0.1, affine=True, track_running_stats=True)\n",
       "        (relu): ReLU(inplace=True)\n",
       "        (downsample): Sequential(\n",
       "          (0): Conv2d(1024, 2048, kernel_size=(1, 1), stride=(2, 2), bias=False)\n",
       "          (1): BatchNorm2d(2048, eps=1e-05, momentum=0.1, affine=True, track_running_stats=True)\n",
       "        )\n",
       "      )\n",
       "      (1): Bottleneck(\n",
       "        (conv1): Conv2d(2048, 1024, kernel_size=(1, 1), stride=(1, 1), bias=False)\n",
       "        (bn1): BatchNorm2d(1024, eps=1e-05, momentum=0.1, affine=True, track_running_stats=True)\n",
       "        (conv2): Conv2d(1024, 1024, kernel_size=(3, 3), stride=(1, 1), padding=(1, 1), groups=32, bias=False)\n",
       "        (bn2): BatchNorm2d(1024, eps=1e-05, momentum=0.1, affine=True, track_running_stats=True)\n",
       "        (conv3): Conv2d(1024, 2048, kernel_size=(1, 1), stride=(1, 1), bias=False)\n",
       "        (bn3): BatchNorm2d(2048, eps=1e-05, momentum=0.1, affine=True, track_running_stats=True)\n",
       "        (relu): ReLU(inplace=True)\n",
       "      )\n",
       "      (2): Bottleneck(\n",
       "        (conv1): Conv2d(2048, 1024, kernel_size=(1, 1), stride=(1, 1), bias=False)\n",
       "        (bn1): BatchNorm2d(1024, eps=1e-05, momentum=0.1, affine=True, track_running_stats=True)\n",
       "        (conv2): Conv2d(1024, 1024, kernel_size=(3, 3), stride=(1, 1), padding=(1, 1), groups=32, bias=False)\n",
       "        (bn2): BatchNorm2d(1024, eps=1e-05, momentum=0.1, affine=True, track_running_stats=True)\n",
       "        (conv3): Conv2d(1024, 2048, kernel_size=(1, 1), stride=(1, 1), bias=False)\n",
       "        (bn3): BatchNorm2d(2048, eps=1e-05, momentum=0.1, affine=True, track_running_stats=True)\n",
       "        (relu): ReLU(inplace=True)\n",
       "      )\n",
       "    )\n",
       "    (avgpool): AdaptiveAvgPool2d(output_size=(1, 1))\n",
       "    (fc): Sequential(\n",
       "      (0): Dropout(p=0.2, inplace=False)\n",
       "      (1): Linear(in_features=2048, out_features=9, bias=True)\n",
       "    )\n",
       "  )\n",
       "  (activation): Sigmoid()\n",
       ")"
      ]
     },
     "execution_count": 15,
     "metadata": {},
     "output_type": "execute_result"
    }
   ],
   "source": [
    "# load best_model\n",
    "model=Resnext50()\n",
    "model.load_state_dict(torch.load(PATH))\n",
    "model.to(device)\n",
    "model.eval()\n"
   ]
  },
  {
   "cell_type": "code",
   "execution_count": 16,
   "id": "cdf94c9a",
   "metadata": {
    "scrolled": true
   },
   "outputs": [
    {
     "data": {
      "image/png": "[encoded data removed]",
      "text/plain": [
       "<Figure size 640x480 with 1 Axes>"
      ]
     },
     "metadata": {},
     "output_type": "display_data"
    },
    {
     "data": {
      "image/png": "[encoded data removed]",
      "text/plain": [
       "<Figure size 640x480 with 1 Axes>"
      ]
     },
     "metadata": {},
     "output_type": "display_data"
    }
   ],
   "source": [
    "plot_graph(train_precision, train_recall, train_loss, val_precision, val_recall, val_loss)"
   ]
  },
  {
   "cell_type": "code",
   "execution_count": null,
   "id": "cd60cad7",
   "metadata": {},
   "outputs": [],
   "source": []
  }
 ],
 "metadata": {
  "kernelspec": {
   "display_name": "Python 3 (ipykernel)",
   "language": "python",
   "name": "python3"
  },
  "language_info": {
   "codemirror_mode": {
    "name": "ipython",
    "version": 3
   },
   "file_extension": ".py",
   "mimetype": "text/x-python",
   "name": "python",
   "nbconvert_exporter": "python",
   "pygments_lexer": "ipython3",
   "version": "3.10.6"
  }
 },
 "nbformat": 4,
 "nbformat_minor": 5
}
