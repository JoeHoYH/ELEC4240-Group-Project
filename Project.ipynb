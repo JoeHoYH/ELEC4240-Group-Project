{
 "cells": [
  {
   "cell_type": "code",
   "execution_count": 117,
   "id": "ba0c2cb0",
   "metadata": {},
   "outputs": [
    {
     "name": "stdout",
     "output_type": "stream",
     "text": [
      "1.12.1\n",
      "True\n"
     ]
    }
   ],
   "source": [
    "import torch\n",
    "import os\n",
    "import math\n",
    "\n",
    "\n",
    "import matplotlib.pyplot as plt\n",
    "from collections import Counter\n",
    "from itertools import chain\n",
    "from sklearn.model_selection import StratifiedKFold\n",
    "from sklearn.metrics import accuracy_score, f1_score\n",
    "from sklearn.model_selection import train_test_split\n",
    "from sklearn.utils import gen_batches\n",
    "from torchvision import datasets, transforms\n",
    "import torch.nn as nn\n",
    "import torch.nn.functional as F\n",
    "from torch.utils.data import DataLoader, random_split\n",
    "import torch.optim as optim\n",
    "from copy import deepcopy\n",
    "from time import time\n",
    "import numpy as np\n",
    "from PIL import Image\n",
    "\n",
    "\n",
    "# just to ignore the matplotlib warnings to make the plots look better\n",
    "import warnings\n",
    "warnings.filterwarnings('ignore')\n",
    "# test whether the cuda is available\n",
    "# os.environ['CUDA_VISIBLE_DEVICES'] = '0'\n",
    "print(torch.__version__)\n",
    "print(torch.cuda.is_available())"
   ]
  },
  {
   "cell_type": "code",
   "execution_count": 118,
   "id": "a3437eaf",
   "metadata": {},
   "outputs": [],
   "source": [
    "import pandas as pd\n",
    "train_biz=pd.read_csv('./train_photo_to_biz_ids.csv')\n",
    "test_biz=pd.read_csv('./test_photo_to_biz.csv')\n",
    "train=pd.read_csv('./train.csv')\n",
    "sub=pd.read_csv('./sample_submission.csv')"
   ]
  },
  {
   "cell_type": "code",
   "execution_count": 119,
   "id": "480b9f00",
   "metadata": {},
   "outputs": [],
   "source": [
    "#merging\n",
    "data=pd.merge(train_biz,train, on='business_id',how='left')\n",
    "data=data.dropna(subset=['labels'])\n",
    "\n",
    "data_test=pd.merge(test_biz,sub, on='business_id',how='left') "
   ]
  },
  {
   "cell_type": "code",
   "execution_count": 120,
   "id": "894aa50f",
   "metadata": {},
   "outputs": [],
   "source": [
    "# convert string to list of int\n",
    "labels=data['labels'].tolist()\n",
    "\n",
    "for index,x in enumerate(labels):\n",
    "     labels[index]= [int(c) for c in str(x).split(' ')]\n",
    "data['labels'] = labels"
   ]
  },
  {
   "cell_type": "code",
   "execution_count": 121,
   "id": "bfb57b59",
   "metadata": {},
   "outputs": [
    {
     "data": {
      "text/plain": [
       "234545"
      ]
     },
     "execution_count": 121,
     "metadata": {},
     "output_type": "execute_result"
    }
   ],
   "source": [
    "len(data_train)"
   ]
  },
  {
   "cell_type": "code",
   "execution_count": 122,
   "id": "2efc99fe",
   "metadata": {},
   "outputs": [],
   "source": [
    "# # split data\n",
    "# train_size = int(len(data)*0.8)\n",
    "# val_size = len(data)-train_size\n",
    "# train_data, val_data = random_split(data_train, lengths=[train_size,val_size])"
   ]
  },
  {
   "cell_type": "code",
   "execution_count": 123,
   "id": "bdb441c1",
   "metadata": {},
   "outputs": [],
   "source": [
    "from sklearn import metrics, model_selection, preprocessing\n",
    "df_train, df_valid = model_selection.train_test_split(data, test_size=0.1, random_state=40)"
   ]
  },
  {
   "cell_type": "code",
   "execution_count": 135,
   "id": "0c453694",
   "metadata": {},
   "outputs": [],
   "source": [
    "from torch.utils.data.dataset import Dataset\n",
    "class NusDataset(Dataset):\n",
    "#     def __init__(self, data_path, data, transforms):\n",
    "    def __init__(self, data_path, data):\n",
    "#         self.transforms = transforms\n",
    "   \n",
    "        self.image_id = data['photo_id'].tolist()\n",
    "        self.labels=data['labels'].tolist()\n",
    "        \n",
    "        self.classes = [0,1,2,3,4,5,6,7,8]\n",
    "        self.data_path = data_path\n",
    "          \n",
    "        for index in range(len(self.labels)):\n",
    "            labels = self.labels[index]\n",
    "            vector=[0,0,0,0,0,0,0,0,0]\n",
    "            for i in range(9):\n",
    "                if i in labels:\n",
    "                    vector[i] = 1\n",
    "            self.labels[index] = np.array(vector, dtype=float)\n",
    "\n",
    "    def __getitem__(self, index):\n",
    "        label = self.labels[index]\n",
    "        img_path = os.path.join(self.data_path, str(self.image_id[index])+'.jpg')\n",
    "        img = Image.open(img_path)\n",
    "#         if self.transforms is not None:\n",
    "#             img = self.transforms(img)\n",
    "        return img, label\n",
    "\n",
    "        \n",
    "\n",
    "    def __len__(self):\n",
    "        return len(self.imgs)"
   ]
  },
  {
   "cell_type": "code",
   "execution_count": 136,
   "id": "98b83859",
   "metadata": {},
   "outputs": [
    {
     "data": {
      "text/html": [
       "<div>\n",
       "<style scoped>\n",
       "    .dataframe tbody tr th:only-of-type {\n",
       "        vertical-align: middle;\n",
       "    }\n",
       "\n",
       "    .dataframe tbody tr th {\n",
       "        vertical-align: top;\n",
       "    }\n",
       "\n",
       "    .dataframe thead th {\n",
       "        text-align: right;\n",
       "    }\n",
       "</style>\n",
       "<table border=\"1\" class=\"dataframe\">\n",
       "  <thead>\n",
       "    <tr style=\"text-align: right;\">\n",
       "      <th></th>\n",
       "      <th>photo_id</th>\n",
       "      <th>business_id</th>\n",
       "      <th>labels</th>\n",
       "    </tr>\n",
       "  </thead>\n",
       "  <tbody>\n",
       "    <tr>\n",
       "      <th>184802</th>\n",
       "      <td>125301</td>\n",
       "      <td>1323</td>\n",
       "      <td>[0, 2, 3, 5]</td>\n",
       "    </tr>\n",
       "    <tr>\n",
       "      <th>152400</th>\n",
       "      <td>267471</td>\n",
       "      <td>2379</td>\n",
       "      <td>[1, 2, 3, 4, 5, 6]</td>\n",
       "    </tr>\n",
       "    <tr>\n",
       "      <th>174145</th>\n",
       "      <td>321518</td>\n",
       "      <td>1031</td>\n",
       "      <td>[6, 8]</td>\n",
       "    </tr>\n",
       "    <tr>\n",
       "      <th>152138</th>\n",
       "      <td>356872</td>\n",
       "      <td>487</td>\n",
       "      <td>[1, 2, 3, 4, 5, 6]</td>\n",
       "    </tr>\n",
       "    <tr>\n",
       "      <th>39775</th>\n",
       "      <td>108147</td>\n",
       "      <td>998</td>\n",
       "      <td>[1, 2, 4, 5, 6, 7]</td>\n",
       "    </tr>\n",
       "    <tr>\n",
       "      <th>...</th>\n",
       "      <td>...</td>\n",
       "      <td>...</td>\n",
       "      <td>...</td>\n",
       "    </tr>\n",
       "    <tr>\n",
       "      <th>93231</th>\n",
       "      <td>345331</td>\n",
       "      <td>3883</td>\n",
       "      <td>[2, 5, 6, 8]</td>\n",
       "    </tr>\n",
       "    <tr>\n",
       "      <th>211366</th>\n",
       "      <td>315347</td>\n",
       "      <td>3696</td>\n",
       "      <td>[1, 2, 3, 4, 5, 6]</td>\n",
       "    </tr>\n",
       "    <tr>\n",
       "      <th>30741</th>\n",
       "      <td>259647</td>\n",
       "      <td>3339</td>\n",
       "      <td>[1, 2, 3, 4, 5, 6, 7]</td>\n",
       "    </tr>\n",
       "    <tr>\n",
       "      <th>112934</th>\n",
       "      <td>269721</td>\n",
       "      <td>1931</td>\n",
       "      <td>[2, 6]</td>\n",
       "    </tr>\n",
       "    <tr>\n",
       "      <th>142755</th>\n",
       "      <td>317935</td>\n",
       "      <td>3319</td>\n",
       "      <td>[1, 2, 3, 5, 6, 7]</td>\n",
       "    </tr>\n",
       "  </tbody>\n",
       "</table>\n",
       "<p>211090 rows × 3 columns</p>\n",
       "</div>"
      ],
      "text/plain": [
       "        photo_id  business_id                 labels\n",
       "184802    125301         1323           [0, 2, 3, 5]\n",
       "152400    267471         2379     [1, 2, 3, 4, 5, 6]\n",
       "174145    321518         1031                 [6, 8]\n",
       "152138    356872          487     [1, 2, 3, 4, 5, 6]\n",
       "39775     108147          998     [1, 2, 4, 5, 6, 7]\n",
       "...          ...          ...                    ...\n",
       "93231     345331         3883           [2, 5, 6, 8]\n",
       "211366    315347         3696     [1, 2, 3, 4, 5, 6]\n",
       "30741     259647         3339  [1, 2, 3, 4, 5, 6, 7]\n",
       "112934    269721         1931                 [2, 6]\n",
       "142755    317935         3319     [1, 2, 3, 5, 6, 7]\n",
       "\n",
       "[211090 rows x 3 columns]"
      ]
     },
     "execution_count": 136,
     "metadata": {},
     "output_type": "execute_result"
    }
   ],
   "source": [
    "dataset_val = NusDataset('./train_photos', df_valid)\n",
    "dataset_train = NusDataset('./train_photos', df_train)\n",
    "df_train"
   ]
  },
  {
   "cell_type": "code",
   "execution_count": 140,
   "id": "ad874a6e",
   "metadata": {},
   "outputs": [
    {
     "data": {
      "text/plain": [
       "array([0., 1., 1., 1., 1., 1., 1., 0., 0.])"
      ]
     },
     "execution_count": 140,
     "metadata": {},
     "output_type": "execute_result"
    }
   ],
   "source": [
    "dataset_train[1][1]"
   ]
  },
  {
   "cell_type": "code",
   "execution_count": null,
   "id": "1c38f1ce",
   "metadata": {},
   "outputs": [],
   "source": []
  }
 ],
 "metadata": {
  "kernelspec": {
   "display_name": "Python 3 (ipykernel)",
   "language": "python",
   "name": "python3"
  },
  "language_info": {
   "codemirror_mode": {
    "name": "ipython",
    "version": 3
   },
   "file_extension": ".py",
   "mimetype": "text/x-python",
   "name": "python",
   "nbconvert_exporter": "python",
   "pygments_lexer": "ipython3",
   "version": "3.10.6"
  }
 },
 "nbformat": 4,
 "nbformat_minor": 5
}
