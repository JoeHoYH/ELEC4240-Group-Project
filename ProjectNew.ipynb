{
 "cells": [
  {
   "cell_type": "code",
   "execution_count": 1,
   "id": "5ea198da",
   "metadata": {},
   "outputs": [
    {
     "name": "stdout",
     "output_type": "stream",
     "text": [
      "1.13.0\n",
      "True\n"
     ]
    }
   ],
   "source": [
    "import torch\n",
    "import os\n",
    "import math\n",
    "\n",
    "import matplotlib\n",
    "import matplotlib.pyplot as plt\n",
    "import matplotlib.ticker as ticker\n",
    "from collections import Counter\n",
    "from itertools import chain\n",
    "from sklearn.model_selection import StratifiedKFold\n",
    "from sklearn.metrics import accuracy_score, f1_score, precision_score, recall_score\n",
    "from sklearn.model_selection import train_test_split\n",
    "from sklearn.utils import gen_batches\n",
    "from torchvision import datasets, transforms\n",
    "import torch.nn as nn\n",
    "import torch.nn.functional as F\n",
    "from torch.utils.data import DataLoader, random_split\n",
    "import torch.optim as optim\n",
    "from copy import deepcopy\n",
    "from time import time\n",
    "import numpy as np\n",
    "from PIL import Image\n",
    "from torchvision import models\n",
    "from tqdm import tqdm\n",
    "from torch.utils.data.dataset import Dataset\n",
    "\n",
    "# just to ignore the matplotlib warnings to make the plots look better\n",
    "import warnings\n",
    "warnings.filterwarnings('ignore')\n",
    "# test whether the cuda is available\n",
    "os.environ['CUDA_VISIBLE_DEVICES'] = '0'\n",
    "print(torch.__version__)\n",
    "print(torch.cuda.is_available())"
   ]
  },
  {
   "cell_type": "code",
   "execution_count": 2,
   "id": "988e9d2c",
   "metadata": {},
   "outputs": [],
   "source": [
    "def plot_graph(train_precision, train_recall, train_loss, val_precision, val_recall, val_loss):\n",
    "    x=range(1,len(train_precision)+1)\n",
    "    plt.xlabel(\"iteration\")\n",
    "    plt.plot(x,train_precision,label=\"train_precision\")\n",
    "    plt.plot(x,train_recall,label=\"train_recall\")\n",
    "    plt.plot(x,val_precision,label=\"val_precision\")\n",
    "    plt.plot(x,val_recall,label=\"val_recall\")\n",
    "    plt.legend(loc=\"upper left\")\n",
    "    plt.ylim([0,1])\n",
    "    plt.show()\n",
    "\n",
    "    x=range(1,len(train_loss)+1)\n",
    "    plt.xlabel(\"epoch\")\n",
    "    plt.plot(x,train_loss,label=\"train_loss\")\n",
    "    plt.plot(x,val_loss,label=\"val_loss\")\n",
    "    plt.legend(loc=\"lower left\")\n",
    "    plt.show()"
   ]
  },
  {
   "cell_type": "code",
   "execution_count": 59,
   "id": "a3437eaf",
   "metadata": {},
   "outputs": [],
   "source": [
    "import pandas as pd\n",
    "train_biz=pd.read_csv('./train_photo_to_biz_ids.csv')\n",
    "train=pd.read_csv('./train.csv')\n",
    "sub=pd.read_csv('./sample_submission.csv')"
   ]
  },
  {
   "cell_type": "code",
   "execution_count": 60,
   "outputs": [],
   "source": [
    "# convert string to list of int\n",
    "train=train.dropna(subset=['labels'])\n",
    "labels=train['labels'].tolist()\n",
    "for index,x in enumerate(labels):\n",
    "     labels[index]= [int(c) for c in str(x).split(' ')]\n",
    "train['labels'] = labels"
   ],
   "metadata": {
    "collapsed": false
   }
  },
  {
   "cell_type": "code",
   "execution_count": 61,
   "outputs": [],
   "source": [
    "# use small data set for development\n",
    "development_size=0.05\n",
    "unsued_data,data = train_test_split(train,test_size=development_size, random_state=40)\n",
    "\n",
    "train_data, test_data = train_test_split(data, test_size=0.1, random_state=40)\n",
    "train_data, val_data = train_test_split(train_data, test_size=0.2, random_state=40)\n"
   ],
   "metadata": {
    "collapsed": false
   }
  },
  {
   "cell_type": "code",
   "execution_count": 62,
   "id": "480b9f00",
   "metadata": {},
   "outputs": [],
   "source": [
    "# merging\n",
    "train_data=pd.merge(train_biz,train_data, on='business_id')\n",
    "val_data=pd.merge(train_biz,val_data, on='business_id')\n",
    "test_data=pd.merge(train_biz,test_data, on='business_id')\n",
    "test_data = test_data.groupby('business_id').agg({'photo_id':lambda x: list(x)}).reset_index()\n",
    "test_data = pd.merge(train,test_data, on='business_id')"
   ]
  },
  {
   "cell_type": "code",
   "execution_count": 7,
   "outputs": [
    {
     "data": {
      "text/plain": "photo_id             101218\nbusiness_id            1688\nlabels         [1, 3, 6, 8]\nName: 0, dtype: object"
     },
     "execution_count": 7,
     "metadata": {},
     "output_type": "execute_result"
    }
   ],
   "source": [
    "test_data.loc[0]"
   ],
   "metadata": {
    "collapsed": false
   }
  },
  {
   "cell_type": "code",
   "execution_count": 8,
   "id": "0c453694",
   "metadata": {},
   "outputs": [],
   "source": [
    "# Define dataset class\n",
    "class Image_Dataset(Dataset):\n",
    "    def __init__(self, data_path, data, transform=None):\n",
    "        self.image_id = data['photo_id'].tolist()\n",
    "        self.labels=data['labels'].tolist()\n",
    "        self.transform = transform\n",
    "        self.data_path = data_path\n",
    "        self.classes = [0,1,2,3,4,5,6,7,8]\n",
    "        \n",
    "          \n",
    "        for index in range(len(self.labels)):\n",
    "            labels = self.labels[index]\n",
    "            vector=[0,0,0,0,0,0,0,0,0]\n",
    "            for i in range(9):\n",
    "                if i in labels:\n",
    "                    vector[i] = 1\n",
    "            self.labels[index] = np.array(vector, dtype=float)\n",
    "\n",
    "    def __getitem__(self, index):\n",
    "        label = self.labels[index]\n",
    "        img_path = os.path.join(self.data_path, str(self.image_id[index])+'.jpg')\n",
    "        img = Image.open(img_path)\n",
    "        if self.transform:\n",
    "            # dont know why all output of the transform are negative\n",
    "            img = -self.transform(img)\n",
    "        return img, label\n",
    "    def __len__(self):\n",
    "        return len(self.image_id)\n",
    "\n",
    "class Test_Dataset(Dataset):\n",
    "    def __init__(self, data_path, data, transform=None):\n",
    "        self.image_id = data['photo_id'].tolist()\n",
    "        self.labels=data['labels'].tolist()\n",
    "        self.transform = transform\n",
    "        self.data_path = data_path\n",
    "        self.classes = [0,1,2,3,4,5,6,7,8]\n",
    "\n",
    "\n",
    "        for index in range(len(self.labels)):\n",
    "            labels = self.labels[index]\n",
    "            vector=[0,0,0,0,0,0,0,0,0]\n",
    "            for i in range(9):\n",
    "                if i in labels:\n",
    "                    vector[i] = 1\n",
    "            self.labels[index] = np.array(vector, dtype=float)\n",
    "\n",
    "    def __getitem__(self, index):\n",
    "        label = self.labels[index]\n",
    "        imgs=[]\n",
    "        for id in self.image_id[index]:\n",
    "            img_path = os.path.join(self.data_path, str(id)+'.jpg')\n",
    "            img = Image.open(img_path)\n",
    "            if self.transform:\n",
    "                # dont know why all output of the transform are negative\n",
    "                img = -self.transform(img)\n",
    "            imgs.append(img.numpy())\n",
    "        imgs=torch.tensor(imgs)\n",
    "        return imgs, label\n",
    "    def __len__(self):\n",
    "        return len(self.image_id)\n",
    "test_dataset = Test_Dataset('./train_photos', test_data, test_transform);\n",
    "test_dataloader = DataLoader(test_dataset, batch_size=1)\n"
   ]
  },
  {
   "cell_type": "code",
   "execution_count": 9,
   "id": "46a29a45",
   "metadata": {},
   "outputs": [],
   "source": [
    "# transformation\n",
    "\n",
    "mean = [0.485,0.456,0.406]\n",
    "std = [0.229,0.224,0.225]\n",
    "\n",
    "train_transform = transforms.Compose([\n",
    "        transforms.Resize([256, 256]),\n",
    "        transforms.ColorJitter(),\n",
    "        transforms.RandomHorizontalFlip(),\n",
    "        transforms.ToTensor(),\n",
    "        transforms.Normalize(mean=mean, std=std),\n",
    "        ])\n",
    "\n",
    "test_transform = transforms.Compose([\n",
    "    transforms.Resize((256, 256)),\n",
    "    transforms.ToTensor(),\n",
    "    transforms.Normalize(mean, std)\n",
    "])\n"
   ]
  },
  {
   "cell_type": "code",
   "execution_count": 10,
   "id": "98b83859",
   "metadata": {},
   "outputs": [],
   "source": [
    "train_dataset = Image_Dataset('./train_photos', train_data, train_transform)\n",
    "val_dataset = Image_Dataset('./train_photos', val_data, test_transform)"
   ]
  },
  {
   "cell_type": "code",
   "execution_count": 47,
   "id": "3317a41e",
   "metadata": {},
   "outputs": [],
   "source": [
    "# this part can be tuned\n",
    "class Resnext50(nn.Module):\n",
    "    def __init__(self):\n",
    "        super().__init__()\n",
    "        resnet = models.regnet_x_800mf(pretrained=True)\n",
    "        resnet.fc = nn.Sequential(\n",
    "            nn.Dropout(p=0.2),\n",
    "            nn.Linear(in_features=resnet.fc.in_features,out_features=9),\n",
    "        )\n",
    "        self.model = resnet\n",
    "        self.activation = nn.Sigmoid()\n",
    "\n",
    "    def forward(self, x):\n",
    "        return self.activation(self.model(x))"
   ]
  },
  {
   "cell_type": "code",
   "execution_count": 12,
   "id": "fe349bfd",
   "metadata": {},
   "outputs": [],
   "source": [
    "# this part can be tuned\n",
    "\n",
    "device = torch.device('cuda')\n",
    "\n",
    "\n",
    "\n",
    "\n"
   ]
  },
  {
   "cell_type": "code",
   "execution_count": 13,
   "id": "344b0a8c",
   "metadata": {},
   "outputs": [],
   "source": [
    "\n",
    "\n",
    "def training(model, optimizer,  device,loss_func, l2_lambda, train_dataloader, val_dataloader,epoch ):\n",
    "    train_precision = []\n",
    "    train_recall=[]\n",
    "    train_loss = []\n",
    "\n",
    "    val_precision = []\n",
    "    val_recall=[]\n",
    "    val_loss = []\n",
    "    best_f1 = 0\n",
    "    best_model = None\n",
    "    best_i = 0\n",
    "\n",
    "    \n",
    "    model = model.to(device)\n",
    "    \n",
    "    for i in range(epoch):\n",
    "        model.train()\n",
    "        \n",
    "        train_batch_precision=[]\n",
    "        train_batch_recall=[]\n",
    "        train_batch_loss =[]\n",
    "        num = 0\n",
    "        for images, labels in tqdm(train_dataloader):\n",
    "            num+=1\n",
    "            images, labels = images.to(device), labels.to(device)\n",
    "            output = model(images)\n",
    "            loss = loss_func(output, labels.type(torch.float))\n",
    "            l2_norm = sum(p.pow(2.0).sum() for p in model.parameters())\n",
    "            loss = loss + l2_lambda * l2_norm\n",
    "            optimizer.zero_grad()\n",
    "            loss.backward()\n",
    "            optimizer.step()\n",
    "\n",
    "            with torch.no_grad():\n",
    "                pred = (output>0.5).cpu()\n",
    "                labels = labels.cpu()\n",
    "                train_batch_precision.append(precision_score(labels, pred,average='micro'))\n",
    "                train_batch_recall.append(recall_score(labels, pred,average='micro'))\n",
    "                train_batch_loss.append(loss.cpu().detach())\n",
    "\n",
    "\n",
    "        torch.cuda.empty_cache()\n",
    "        train_precision.append(np.array(train_batch_precision).mean())\n",
    "        train_recall.append(np.array(train_batch_recall).mean())\n",
    "        train_loss.append(np.array(train_batch_loss).mean())\n",
    "\n",
    "        val_batch_precision=[]\n",
    "        val_batch_recall=[]\n",
    "        val_batch_loss=[]\n",
    "\n",
    "\n",
    "        # validation\n",
    "        model.eval()\n",
    "        with torch.no_grad():\n",
    "            for images, labels in val_dataloader:\n",
    "                images, labels = images.to(device), labels.to(device)\n",
    "                output = model(images)\n",
    "\n",
    "                loss = loss_func(output, labels.type(torch.float))\n",
    "                l2_lambda = 0.001\n",
    "                l2_norm = sum(p.pow(2.0).sum() for p in model.parameters())\n",
    "                loss = loss + l2_lambda * l2_norm\n",
    "\n",
    "                pred = np.array(np.array(output.cpu()) >0.5, dtype=float)\n",
    "                labels = labels.cpu()\n",
    "\n",
    "                val_batch_precision.append(precision_score(labels,pred,average='micro'))\n",
    "                val_batch_recall.append(recall_score(labels,pred,average='micro'))\n",
    "                val_batch_loss.append(loss.cpu().detach())\n",
    "\n",
    "            precision = np.array(val_batch_precision).mean()\n",
    "            recall = np.array(val_batch_recall).mean()\n",
    "            loss = np.array(val_batch_loss).mean()\n",
    "\n",
    "            val_precision.append(precision)\n",
    "            val_recall.append(recall)\n",
    "            val_loss.append(loss)\n",
    "\n",
    "            f1 = 2 * (precision * recall) / (precision + recall)\n",
    "\n",
    "            if  f1> best_f1:\n",
    "                best_f1 = f1\n",
    "                best_model = deepcopy(model.state_dict())\n",
    "                best_i = i\n",
    "        \n",
    "\n",
    "        print(\"train_precision:{:.4f}, train_recall:{:.4f}, train_loss:{:.4f}\".format(train_precision[-1],train_recall[-1],train_loss[-1]))\n",
    "        print('val_precision:{:.4f}, val_recall:{:.4f}, val_loss:{:.4f}'.format( val_precision[-1],val_recall[-1],val_loss[-1]))\n",
    "\n",
    "    print('best epoch {}, train precision {:.4f} val precision {:.4f}, f1 {:.4f}'.format(best_i, train_precision[best_i], val_precision[best_i], best_f1))\n",
    "    model.load_state_dict(best_model)\n",
    "    return train_precision, train_recall, train_loss, val_precision, val_recall, val_loss"
   ]
  },
  {
   "cell_type": "code",
   "execution_count": 48,
   "id": "15386066",
   "metadata": {
    "scrolled": true
   },
   "outputs": [
    {
     "name": "stderr",
     "output_type": "stream",
     "text": [
      "Downloading: \"https://download.pytorch.org/models/regnet_x_800mf-ad17e45c.pth\" to C:\\Users\\flssh/.cache\\torch\\hub\\checkpoints\\regnet_x_800mf-ad17e45c.pth\n"
     ]
    },
    {
     "data": {
      "text/plain": "  0%|          | 0.00/27.9M [00:00<?, ?B/s]",
      "application/vnd.jupyter.widget-view+json": {
       "version_major": 2,
       "version_minor": 0,
       "model_id": "936e41cf67ba4232982eee1dd29b3666"
      }
     },
     "metadata": {},
     "output_type": "display_data"
    },
    {
     "name": "stderr",
     "output_type": "stream",
     "text": [
      "100%|██████████| 164/164 [01:40<00:00,  1.63it/s]\n"
     ]
    },
    {
     "name": "stdout",
     "output_type": "stream",
     "text": [
      "train_precision:0.6820, train_recall:0.7263, train_loss:72.3931\n",
      "val_precision:0.6314, val_recall:0.6875, val_loss:14.7132\n"
     ]
    },
    {
     "name": "stderr",
     "output_type": "stream",
     "text": [
      "100%|██████████| 164/164 [01:37<00:00,  1.67it/s]\n"
     ]
    },
    {
     "name": "stdout",
     "output_type": "stream",
     "text": [
      "train_precision:0.7165, train_recall:0.7604, train_loss:14.6388\n",
      "val_precision:0.6477, val_recall:0.7560, val_loss:14.5806\n"
     ]
    },
    {
     "name": "stderr",
     "output_type": "stream",
     "text": [
      "100%|██████████| 164/164 [01:37<00:00,  1.68it/s]\n"
     ]
    },
    {
     "name": "stdout",
     "output_type": "stream",
     "text": [
      "train_precision:0.7436, train_recall:0.7745, train_loss:14.5079\n",
      "val_precision:0.6751, val_recall:0.7970, val_loss:14.4515\n"
     ]
    },
    {
     "name": "stderr",
     "output_type": "stream",
     "text": [
      "100%|██████████| 164/164 [01:44<00:00,  1.58it/s]\n"
     ]
    },
    {
     "name": "stdout",
     "output_type": "stream",
     "text": [
      "train_precision:0.7698, train_recall:0.7819, train_loss:14.3873\n",
      "val_precision:0.6889, val_recall:0.7974, val_loss:14.3374\n"
     ]
    },
    {
     "name": "stderr",
     "output_type": "stream",
     "text": [
      "100%|██████████| 164/164 [01:39<00:00,  1.64it/s]\n"
     ]
    },
    {
     "name": "stdout",
     "output_type": "stream",
     "text": [
      "train_precision:0.7858, train_recall:0.7860, train_loss:14.2750\n",
      "val_precision:0.6901, val_recall:0.8012, val_loss:14.2358\n",
      "best epoch 4, train precision 0.7858 val precision 0.6901, f1 0.7415\n"
     ]
    }
   ],
   "source": [
    "# Training\n",
    "model = Resnext50()\n",
    "optimizer = optim.SGD(model.parameters(), lr=1e-2)\n",
    "loss_func = nn.BCELoss()\n",
    "l2_lambda=5e-3\n",
    "epoch = 5\n",
    "train_dataloader = DataLoader(train_dataset, batch_size=48,  shuffle=True,drop_last=True)\n",
    "val_dataloader = DataLoader(val_dataset, batch_size=64)\n",
    "torch.cuda.empty_cache()\n",
    "train_precision, train_recall, train_loss, val_precision, val_recall, val_loss = training(model,optimizer,device,loss_func,l2_lambda,train_dataloader,val_dataloader,epoch)\n"
   ]
  },
  {
   "cell_type": "code",
   "execution_count": 49,
   "outputs": [
    {
     "data": {
      "text/plain": "<Figure size 640x480 with 1 Axes>",
      "image/png": "[encoded data removed]"
     },
     "metadata": {},
     "output_type": "display_data"
    },
    {
     "data": {
      "text/plain": "<Figure size 640x480 with 1 Axes>",
      "image/png": "[encoded data removed]"
     },
     "metadata": {},
     "output_type": "display_data"
    }
   ],
   "source": [
    "plot_graph(train_precision, train_recall, train_loss, val_precision, val_recall, val_loss)"
   ],
   "metadata": {
    "collapsed": false
   }
  },
  {
   "cell_type": "code",
   "execution_count": 15,
   "id": "b9d48b6d",
   "metadata": {},
   "outputs": [],
   "source": [
    "# Save model\n",
    "PATH=\"./models/best_model.pt\"\n",
    "os.makedirs(\"models\", exist_ok=True)\n",
    "torch.save(model.state_dict(), PATH)"
   ]
  },
  {
   "cell_type": "code",
   "execution_count": 14,
   "id": "42dec323",
   "metadata": {
    "scrolled": true
   },
   "outputs": [
    {
     "data": {
      "text/plain": "Resnext50(\n  (model): ResNet(\n    (conv1): Conv2d(3, 64, kernel_size=(7, 7), stride=(2, 2), padding=(3, 3), bias=False)\n    (bn1): BatchNorm2d(64, eps=1e-05, momentum=0.1, affine=True, track_running_stats=True)\n    (relu): ReLU(inplace=True)\n    (maxpool): MaxPool2d(kernel_size=3, stride=2, padding=1, dilation=1, ceil_mode=False)\n    (layer1): Sequential(\n      (0): Bottleneck(\n        (conv1): Conv2d(64, 128, kernel_size=(1, 1), stride=(1, 1), bias=False)\n        (bn1): BatchNorm2d(128, eps=1e-05, momentum=0.1, affine=True, track_running_stats=True)\n        (conv2): Conv2d(128, 128, kernel_size=(3, 3), stride=(1, 1), padding=(1, 1), groups=32, bias=False)\n        (bn2): BatchNorm2d(128, eps=1e-05, momentum=0.1, affine=True, track_running_stats=True)\n        (conv3): Conv2d(128, 256, kernel_size=(1, 1), stride=(1, 1), bias=False)\n        (bn3): BatchNorm2d(256, eps=1e-05, momentum=0.1, affine=True, track_running_stats=True)\n        (relu): ReLU(inplace=True)\n        (downsample): Sequential(\n          (0): Conv2d(64, 256, kernel_size=(1, 1), stride=(1, 1), bias=False)\n          (1): BatchNorm2d(256, eps=1e-05, momentum=0.1, affine=True, track_running_stats=True)\n        )\n      )\n      (1): Bottleneck(\n        (conv1): Conv2d(256, 128, kernel_size=(1, 1), stride=(1, 1), bias=False)\n        (bn1): BatchNorm2d(128, eps=1e-05, momentum=0.1, affine=True, track_running_stats=True)\n        (conv2): Conv2d(128, 128, kernel_size=(3, 3), stride=(1, 1), padding=(1, 1), groups=32, bias=False)\n        (bn2): BatchNorm2d(128, eps=1e-05, momentum=0.1, affine=True, track_running_stats=True)\n        (conv3): Conv2d(128, 256, kernel_size=(1, 1), stride=(1, 1), bias=False)\n        (bn3): BatchNorm2d(256, eps=1e-05, momentum=0.1, affine=True, track_running_stats=True)\n        (relu): ReLU(inplace=True)\n      )\n      (2): Bottleneck(\n        (conv1): Conv2d(256, 128, kernel_size=(1, 1), stride=(1, 1), bias=False)\n        (bn1): BatchNorm2d(128, eps=1e-05, momentum=0.1, affine=True, track_running_stats=True)\n        (conv2): Conv2d(128, 128, kernel_size=(3, 3), stride=(1, 1), padding=(1, 1), groups=32, bias=False)\n        (bn2): BatchNorm2d(128, eps=1e-05, momentum=0.1, affine=True, track_running_stats=True)\n        (conv3): Conv2d(128, 256, kernel_size=(1, 1), stride=(1, 1), bias=False)\n        (bn3): BatchNorm2d(256, eps=1e-05, momentum=0.1, affine=True, track_running_stats=True)\n        (relu): ReLU(inplace=True)\n      )\n    )\n    (layer2): Sequential(\n      (0): Bottleneck(\n        (conv1): Conv2d(256, 256, kernel_size=(1, 1), stride=(1, 1), bias=False)\n        (bn1): BatchNorm2d(256, eps=1e-05, momentum=0.1, affine=True, track_running_stats=True)\n        (conv2): Conv2d(256, 256, kernel_size=(3, 3), stride=(2, 2), padding=(1, 1), groups=32, bias=False)\n        (bn2): BatchNorm2d(256, eps=1e-05, momentum=0.1, affine=True, track_running_stats=True)\n        (conv3): Conv2d(256, 512, kernel_size=(1, 1), stride=(1, 1), bias=False)\n        (bn3): BatchNorm2d(512, eps=1e-05, momentum=0.1, affine=True, track_running_stats=True)\n        (relu): ReLU(inplace=True)\n        (downsample): Sequential(\n          (0): Conv2d(256, 512, kernel_size=(1, 1), stride=(2, 2), bias=False)\n          (1): BatchNorm2d(512, eps=1e-05, momentum=0.1, affine=True, track_running_stats=True)\n        )\n      )\n      (1): Bottleneck(\n        (conv1): Conv2d(512, 256, kernel_size=(1, 1), stride=(1, 1), bias=False)\n        (bn1): BatchNorm2d(256, eps=1e-05, momentum=0.1, affine=True, track_running_stats=True)\n        (conv2): Conv2d(256, 256, kernel_size=(3, 3), stride=(1, 1), padding=(1, 1), groups=32, bias=False)\n        (bn2): BatchNorm2d(256, eps=1e-05, momentum=0.1, affine=True, track_running_stats=True)\n        (conv3): Conv2d(256, 512, kernel_size=(1, 1), stride=(1, 1), bias=False)\n        (bn3): BatchNorm2d(512, eps=1e-05, momentum=0.1, affine=True, track_running_stats=True)\n        (relu): ReLU(inplace=True)\n      )\n      (2): Bottleneck(\n        (conv1): Conv2d(512, 256, kernel_size=(1, 1), stride=(1, 1), bias=False)\n        (bn1): BatchNorm2d(256, eps=1e-05, momentum=0.1, affine=True, track_running_stats=True)\n        (conv2): Conv2d(256, 256, kernel_size=(3, 3), stride=(1, 1), padding=(1, 1), groups=32, bias=False)\n        (bn2): BatchNorm2d(256, eps=1e-05, momentum=0.1, affine=True, track_running_stats=True)\n        (conv3): Conv2d(256, 512, kernel_size=(1, 1), stride=(1, 1), bias=False)\n        (bn3): BatchNorm2d(512, eps=1e-05, momentum=0.1, affine=True, track_running_stats=True)\n        (relu): ReLU(inplace=True)\n      )\n      (3): Bottleneck(\n        (conv1): Conv2d(512, 256, kernel_size=(1, 1), stride=(1, 1), bias=False)\n        (bn1): BatchNorm2d(256, eps=1e-05, momentum=0.1, affine=True, track_running_stats=True)\n        (conv2): Conv2d(256, 256, kernel_size=(3, 3), stride=(1, 1), padding=(1, 1), groups=32, bias=False)\n        (bn2): BatchNorm2d(256, eps=1e-05, momentum=0.1, affine=True, track_running_stats=True)\n        (conv3): Conv2d(256, 512, kernel_size=(1, 1), stride=(1, 1), bias=False)\n        (bn3): BatchNorm2d(512, eps=1e-05, momentum=0.1, affine=True, track_running_stats=True)\n        (relu): ReLU(inplace=True)\n      )\n    )\n    (layer3): Sequential(\n      (0): Bottleneck(\n        (conv1): Conv2d(512, 512, kernel_size=(1, 1), stride=(1, 1), bias=False)\n        (bn1): BatchNorm2d(512, eps=1e-05, momentum=0.1, affine=True, track_running_stats=True)\n        (conv2): Conv2d(512, 512, kernel_size=(3, 3), stride=(2, 2), padding=(1, 1), groups=32, bias=False)\n        (bn2): BatchNorm2d(512, eps=1e-05, momentum=0.1, affine=True, track_running_stats=True)\n        (conv3): Conv2d(512, 1024, kernel_size=(1, 1), stride=(1, 1), bias=False)\n        (bn3): BatchNorm2d(1024, eps=1e-05, momentum=0.1, affine=True, track_running_stats=True)\n        (relu): ReLU(inplace=True)\n        (downsample): Sequential(\n          (0): Conv2d(512, 1024, kernel_size=(1, 1), stride=(2, 2), bias=False)\n          (1): BatchNorm2d(1024, eps=1e-05, momentum=0.1, affine=True, track_running_stats=True)\n        )\n      )\n      (1): Bottleneck(\n        (conv1): Conv2d(1024, 512, kernel_size=(1, 1), stride=(1, 1), bias=False)\n        (bn1): BatchNorm2d(512, eps=1e-05, momentum=0.1, affine=True, track_running_stats=True)\n        (conv2): Conv2d(512, 512, kernel_size=(3, 3), stride=(1, 1), padding=(1, 1), groups=32, bias=False)\n        (bn2): BatchNorm2d(512, eps=1e-05, momentum=0.1, affine=True, track_running_stats=True)\n        (conv3): Conv2d(512, 1024, kernel_size=(1, 1), stride=(1, 1), bias=False)\n        (bn3): BatchNorm2d(1024, eps=1e-05, momentum=0.1, affine=True, track_running_stats=True)\n        (relu): ReLU(inplace=True)\n      )\n      (2): Bottleneck(\n        (conv1): Conv2d(1024, 512, kernel_size=(1, 1), stride=(1, 1), bias=False)\n        (bn1): BatchNorm2d(512, eps=1e-05, momentum=0.1, affine=True, track_running_stats=True)\n        (conv2): Conv2d(512, 512, kernel_size=(3, 3), stride=(1, 1), padding=(1, 1), groups=32, bias=False)\n        (bn2): BatchNorm2d(512, eps=1e-05, momentum=0.1, affine=True, track_running_stats=True)\n        (conv3): Conv2d(512, 1024, kernel_size=(1, 1), stride=(1, 1), bias=False)\n        (bn3): BatchNorm2d(1024, eps=1e-05, momentum=0.1, affine=True, track_running_stats=True)\n        (relu): ReLU(inplace=True)\n      )\n      (3): Bottleneck(\n        (conv1): Conv2d(1024, 512, kernel_size=(1, 1), stride=(1, 1), bias=False)\n        (bn1): BatchNorm2d(512, eps=1e-05, momentum=0.1, affine=True, track_running_stats=True)\n        (conv2): Conv2d(512, 512, kernel_size=(3, 3), stride=(1, 1), padding=(1, 1), groups=32, bias=False)\n        (bn2): BatchNorm2d(512, eps=1e-05, momentum=0.1, affine=True, track_running_stats=True)\n        (conv3): Conv2d(512, 1024, kernel_size=(1, 1), stride=(1, 1), bias=False)\n        (bn3): BatchNorm2d(1024, eps=1e-05, momentum=0.1, affine=True, track_running_stats=True)\n        (relu): ReLU(inplace=True)\n      )\n      (4): Bottleneck(\n        (conv1): Conv2d(1024, 512, kernel_size=(1, 1), stride=(1, 1), bias=False)\n        (bn1): BatchNorm2d(512, eps=1e-05, momentum=0.1, affine=True, track_running_stats=True)\n        (conv2): Conv2d(512, 512, kernel_size=(3, 3), stride=(1, 1), padding=(1, 1), groups=32, bias=False)\n        (bn2): BatchNorm2d(512, eps=1e-05, momentum=0.1, affine=True, track_running_stats=True)\n        (conv3): Conv2d(512, 1024, kernel_size=(1, 1), stride=(1, 1), bias=False)\n        (bn3): BatchNorm2d(1024, eps=1e-05, momentum=0.1, affine=True, track_running_stats=True)\n        (relu): ReLU(inplace=True)\n      )\n      (5): Bottleneck(\n        (conv1): Conv2d(1024, 512, kernel_size=(1, 1), stride=(1, 1), bias=False)\n        (bn1): BatchNorm2d(512, eps=1e-05, momentum=0.1, affine=True, track_running_stats=True)\n        (conv2): Conv2d(512, 512, kernel_size=(3, 3), stride=(1, 1), padding=(1, 1), groups=32, bias=False)\n        (bn2): BatchNorm2d(512, eps=1e-05, momentum=0.1, affine=True, track_running_stats=True)\n        (conv3): Conv2d(512, 1024, kernel_size=(1, 1), stride=(1, 1), bias=False)\n        (bn3): BatchNorm2d(1024, eps=1e-05, momentum=0.1, affine=True, track_running_stats=True)\n        (relu): ReLU(inplace=True)\n      )\n    )\n    (layer4): Sequential(\n      (0): Bottleneck(\n        (conv1): Conv2d(1024, 1024, kernel_size=(1, 1), stride=(1, 1), bias=False)\n        (bn1): BatchNorm2d(1024, eps=1e-05, momentum=0.1, affine=True, track_running_stats=True)\n        (conv2): Conv2d(1024, 1024, kernel_size=(3, 3), stride=(2, 2), padding=(1, 1), groups=32, bias=False)\n        (bn2): BatchNorm2d(1024, eps=1e-05, momentum=0.1, affine=True, track_running_stats=True)\n        (conv3): Conv2d(1024, 2048, kernel_size=(1, 1), stride=(1, 1), bias=False)\n        (bn3): BatchNorm2d(2048, eps=1e-05, momentum=0.1, affine=True, track_running_stats=True)\n        (relu): ReLU(inplace=True)\n        (downsample): Sequential(\n          (0): Conv2d(1024, 2048, kernel_size=(1, 1), stride=(2, 2), bias=False)\n          (1): BatchNorm2d(2048, eps=1e-05, momentum=0.1, affine=True, track_running_stats=True)\n        )\n      )\n      (1): Bottleneck(\n        (conv1): Conv2d(2048, 1024, kernel_size=(1, 1), stride=(1, 1), bias=False)\n        (bn1): BatchNorm2d(1024, eps=1e-05, momentum=0.1, affine=True, track_running_stats=True)\n        (conv2): Conv2d(1024, 1024, kernel_size=(3, 3), stride=(1, 1), padding=(1, 1), groups=32, bias=False)\n        (bn2): BatchNorm2d(1024, eps=1e-05, momentum=0.1, affine=True, track_running_stats=True)\n        (conv3): Conv2d(1024, 2048, kernel_size=(1, 1), stride=(1, 1), bias=False)\n        (bn3): BatchNorm2d(2048, eps=1e-05, momentum=0.1, affine=True, track_running_stats=True)\n        (relu): ReLU(inplace=True)\n      )\n      (2): Bottleneck(\n        (conv1): Conv2d(2048, 1024, kernel_size=(1, 1), stride=(1, 1), bias=False)\n        (bn1): BatchNorm2d(1024, eps=1e-05, momentum=0.1, affine=True, track_running_stats=True)\n        (conv2): Conv2d(1024, 1024, kernel_size=(3, 3), stride=(1, 1), padding=(1, 1), groups=32, bias=False)\n        (bn2): BatchNorm2d(1024, eps=1e-05, momentum=0.1, affine=True, track_running_stats=True)\n        (conv3): Conv2d(1024, 2048, kernel_size=(1, 1), stride=(1, 1), bias=False)\n        (bn3): BatchNorm2d(2048, eps=1e-05, momentum=0.1, affine=True, track_running_stats=True)\n        (relu): ReLU(inplace=True)\n      )\n    )\n    (avgpool): AdaptiveAvgPool2d(output_size=(1, 1))\n    (fc): Sequential(\n      (0): Dropout(p=0.2, inplace=False)\n      (1): Linear(in_features=2048, out_features=9, bias=True)\n    )\n  )\n  (activation): Sigmoid()\n)"
     },
     "execution_count": 14,
     "metadata": {},
     "output_type": "execute_result"
    }
   ],
   "source": [
    "# load best_model\n",
    "PATH=\"./models/best_model.pt\"\n",
    "model=Resnext50()\n",
    "model.load_state_dict(torch.load(PATH))\n",
    "model.to(device)\n",
    "model.eval()\n"
   ]
  },
  {
   "cell_type": "code",
   "execution_count": 65,
   "outputs": [
    {
     "name": "stderr",
     "output_type": "stream",
     "text": [
      "100%|██████████| 10/10 [01:14<00:00,  7.43s/it]"
     ]
    },
    {
     "name": "stdout",
     "output_type": "stream",
     "text": [
      "single imgae f1: 0.6161713390431492\n",
      "average imgae f1: 0.6555555555555554\n"
     ]
    },
    {
     "name": "stderr",
     "output_type": "stream",
     "text": [
      "\n"
     ]
    }
   ],
   "source": [
    "# evaluation on test set\n",
    "torch.cuda.empty_cache()\n",
    "model.to(device)\n",
    "model.eval()\n",
    "single_precision=[]\n",
    "single_recall=[]\n",
    "average_precision=[]\n",
    "average_recall=[]\n",
    "for imgs,labels in tqdm(test_dataloader):\n",
    "    with torch.no_grad():\n",
    "        imgs=imgs[0].to(device)\n",
    "        output = model(imgs)\n",
    "        labels=labels.numpy()\n",
    "        pred = np.array(np.array(output.cpu()) >0.5, dtype=float)\n",
    "        single_precision.append(precision_score(np.resize(labels,(pred.shape[0],9)),pred,average='micro'))\n",
    "        single_recall.append(recall_score(np.resize(labels,(pred.shape[0],9)),pred,average='micro'))\n",
    "\n",
    "        average_output=output.mean(dim=0)\n",
    "        pred = np.array(np.array(average_output.cpu()) >0.5, dtype=float)\n",
    "        average_precision.append(precision_score(labels[0],pred,average='micro'))\n",
    "        average_recall.append(recall_score(labels[0],pred,average='micro'))\n",
    "\n",
    "single_precision = sum(single_precision) / len(single_precision)\n",
    "single_recall = sum(single_recall) / len(single_recall)\n",
    "f1 = 2 * (single_precision * single_recall) / (single_precision + single_recall)\n",
    "print(\"single imgae f1: \"+str(f1))\n",
    "\n",
    "average_precision = sum(average_precision) / len(average_precision)\n",
    "average_recall = sum(average_recall) / len(average_recall)\n",
    "f1 = 2 * (average_precision * average_recall) / (average_precision + average_recall)\n",
    "print(\"average imgae f1: \"+str(f1))"
   ],
   "metadata": {
    "collapsed": false
   }
  },
  {
   "cell_type": "code",
   "execution_count": 58,
   "outputs": [
    {
     "ename": "FileNotFoundError",
     "evalue": "[Errno 2] No such file or directory: './train_photos\\\\[[101218, 196237, 321136, 395219, 132538, 235949, 252427, 228860, 445148, 246539, 115506, 351133, 68846, 80873, 262987, 302956, 31829, 309234, 353587, 93673, 441669, 188209, 440799, 354528, 77978, 196675, 246830, 396155, 262503, 468372, 314399, 101732, 438338, 323715, 228107, 248484, 318718, 43660, 388105, 226954, 277974, 403507, 29697, 119678, 292645, 270508, 418426, 156726, 220462, 24637, 113027, 155042, 112745, 322102, 302783, 412715, 197026, 393542, 178389, 53090, 195671, 328543, 64859, 251700, 155578, 8713, 60245, 257498, 51404, 412422, 220067, 243961, 326866, 252112, 194259, 365694, 258517, 31254, 284186, 243140, 84877, 437712, 258079, 65740, 366913, 336555, 100407, 246256, 108267, 383048, 95112, 224602, 267905, 367555, 183932, 193192, 294535, 252569, 156964, 204735, 213599, 168414, 169118, 15656, 288929, 402281, 315675, 392464, 97694, 15332, 142527, 72584, 431834, 463108, 274494, 108234, 218304, 158815, 143802, 61310, 107620, 360815, 357687, 377993, 138493, 408216, 285270, 192196, 304174, 442170, 116520, 268552, 50539, 258650, 229420, 135794, 314283, 41620, 111591, 104332, 160770, 334325, 260783, 229353, 380329, 106359, 334735, 385308, 131225, 333269, 308731, 278360, 398269, 35715, 217206, 111458, 446438, 250182, 87829, 178217, 310774, 342081, 290382, 266640, 207874, 288608, 117517, 22417, 318456, 140408, 452880, 92015, 381436, 166134, 50108, 445367, 72747, 282417, 458027, 449733, 211252, 40718, 136739, 333055, 414056, 250877, 251560, 407203, 93587, 421455, 119987, 209395, 157687, 96567, 366700, 194164, 292323, 319393, 278884, 471693, 135425, 160081, 286972, 168148, 274089, 411900, 392472, 444747, 213959, 136973, 115669, 285824, 29768, 51648, 87123, 41951, 324166, 402527, 369406, 283969, 227973, 275208, 228411, 370651, 361148, 333101, 259604, 107965, 330365, 9068, 208424, 424644, 351785, 386973, 218801, 259521, 201349, 348272, 287400, 132739, 242767, 193100, 398854, 227329, 345567, 154837, 338964, 3620, 128837, 66124, 75938, 130467, 101677, 213937, 340372, 89711, 443691, 40805, 264350, 176180, 277001, 43490, 27059, 138785, 33119, 262655, 236835, 280108, 329850, 224782, 289571, 157791, 161773, 88435, 178097, 456272, 449330, 203892, 457993, 147212, 51182, 406199, 297070, 112540, 203173, 127465, 182041, 364486, 39294, 145171, 106490, 341270, 234944, 74140, 53699, 126595, 90533, 168715, 365842, 381802, 22559, 67387, 176107, 73515, 251281, 240957, 234892, 2535, 310336, 426555, 406734, 31626, 257011, 61909, 41914, 122399, 188319, 284620, 22927, 248177, 158896, 308261, 59498, 458557, 299599, 83720, 269448, 353043, 233078, 70254, 223670, 191666, 99721, 43125, 74766, 90193, 343992, 12175, 201430, 402047, 23827, 224379, 200744, 270618, 339274, 471012, 270040, 67540, 467270, 270095, 90792, 297445, 130004, 361520, 90769, 390650, 92359, 35900, 96966, 241593, 275733, 173388, 144785, 367606, 464288, 329298, 14222, 123285, 284598, 191376, 253378, 361513, 79157, 385842, 207052, 304130, 348945, 253973, 233191, 409432, 18980]].jpg'",
     "output_type": "error",
     "traceback": [
      "\u001B[1;31m---------------------------------------------------------------------------\u001B[0m",
      "\u001B[1;31mFileNotFoundError\u001B[0m                         Traceback (most recent call last)",
      "Cell \u001B[1;32mIn [58], line 29\u001B[0m\n\u001B[0;32m     27\u001B[0m         plt\u001B[38;5;241m.\u001B[39maxis(\u001B[38;5;124m'\u001B[39m\u001B[38;5;124moff\u001B[39m\u001B[38;5;124m'\u001B[39m)\n\u001B[0;32m     28\u001B[0m         plt\u001B[38;5;241m.\u001B[39mshow()\n\u001B[1;32m---> 29\u001B[0m \u001B[43mtest\u001B[49m\u001B[43m(\u001B[49m\u001B[38;5;241;43m0\u001B[39;49m\u001B[43m)\u001B[49m\n",
      "Cell \u001B[1;32mIn [58], line 7\u001B[0m, in \u001B[0;36mtest\u001B[1;34m(index)\u001B[0m\n\u001B[0;32m      5\u001B[0m test_dataset \u001B[38;5;241m=\u001B[39m Test_Dataset(\u001B[38;5;124m'\u001B[39m\u001B[38;5;124m./train_photos\u001B[39m\u001B[38;5;124m'\u001B[39m, test_data\u001B[38;5;241m.\u001B[39mloc[[index]], test_transform);\n\u001B[0;32m      6\u001B[0m test_dataloader \u001B[38;5;241m=\u001B[39m DataLoader(test_dataset, batch_size\u001B[38;5;241m=\u001B[39m\u001B[38;5;241m1\u001B[39m)\n\u001B[1;32m----> 7\u001B[0m \u001B[38;5;28;01mfor\u001B[39;00m imgs,labels \u001B[38;5;129;01min\u001B[39;00m test_dataloader:\n\u001B[0;32m      8\u001B[0m     imgs\u001B[38;5;241m=\u001B[39mimgs[\u001B[38;5;241m0\u001B[39m]\u001B[38;5;241m.\u001B[39mto(device)\n\u001B[0;32m      9\u001B[0m     \u001B[38;5;28;01mwith\u001B[39;00m torch\u001B[38;5;241m.\u001B[39mno_grad():\n",
      "File \u001B[1;32mE:\\Install\\Anaconda\\envs\\cuda\\lib\\site-packages\\torch\\utils\\data\\dataloader.py:628\u001B[0m, in \u001B[0;36m_BaseDataLoaderIter.__next__\u001B[1;34m(self)\u001B[0m\n\u001B[0;32m    625\u001B[0m \u001B[38;5;28;01mif\u001B[39;00m \u001B[38;5;28mself\u001B[39m\u001B[38;5;241m.\u001B[39m_sampler_iter \u001B[38;5;129;01mis\u001B[39;00m \u001B[38;5;28;01mNone\u001B[39;00m:\n\u001B[0;32m    626\u001B[0m     \u001B[38;5;66;03m# TODO(https://github.com/pytorch/pytorch/issues/76750)\u001B[39;00m\n\u001B[0;32m    627\u001B[0m     \u001B[38;5;28mself\u001B[39m\u001B[38;5;241m.\u001B[39m_reset()  \u001B[38;5;66;03m# type: ignore[call-arg]\u001B[39;00m\n\u001B[1;32m--> 628\u001B[0m data \u001B[38;5;241m=\u001B[39m \u001B[38;5;28;43mself\u001B[39;49m\u001B[38;5;241;43m.\u001B[39;49m\u001B[43m_next_data\u001B[49m\u001B[43m(\u001B[49m\u001B[43m)\u001B[49m\n\u001B[0;32m    629\u001B[0m \u001B[38;5;28mself\u001B[39m\u001B[38;5;241m.\u001B[39m_num_yielded \u001B[38;5;241m+\u001B[39m\u001B[38;5;241m=\u001B[39m \u001B[38;5;241m1\u001B[39m\n\u001B[0;32m    630\u001B[0m \u001B[38;5;28;01mif\u001B[39;00m \u001B[38;5;28mself\u001B[39m\u001B[38;5;241m.\u001B[39m_dataset_kind \u001B[38;5;241m==\u001B[39m _DatasetKind\u001B[38;5;241m.\u001B[39mIterable \u001B[38;5;129;01mand\u001B[39;00m \\\n\u001B[0;32m    631\u001B[0m         \u001B[38;5;28mself\u001B[39m\u001B[38;5;241m.\u001B[39m_IterableDataset_len_called \u001B[38;5;129;01mis\u001B[39;00m \u001B[38;5;129;01mnot\u001B[39;00m \u001B[38;5;28;01mNone\u001B[39;00m \u001B[38;5;129;01mand\u001B[39;00m \\\n\u001B[0;32m    632\u001B[0m         \u001B[38;5;28mself\u001B[39m\u001B[38;5;241m.\u001B[39m_num_yielded \u001B[38;5;241m>\u001B[39m \u001B[38;5;28mself\u001B[39m\u001B[38;5;241m.\u001B[39m_IterableDataset_len_called:\n",
      "File \u001B[1;32mE:\\Install\\Anaconda\\envs\\cuda\\lib\\site-packages\\torch\\utils\\data\\dataloader.py:671\u001B[0m, in \u001B[0;36m_SingleProcessDataLoaderIter._next_data\u001B[1;34m(self)\u001B[0m\n\u001B[0;32m    669\u001B[0m \u001B[38;5;28;01mdef\u001B[39;00m \u001B[38;5;21m_next_data\u001B[39m(\u001B[38;5;28mself\u001B[39m):\n\u001B[0;32m    670\u001B[0m     index \u001B[38;5;241m=\u001B[39m \u001B[38;5;28mself\u001B[39m\u001B[38;5;241m.\u001B[39m_next_index()  \u001B[38;5;66;03m# may raise StopIteration\u001B[39;00m\n\u001B[1;32m--> 671\u001B[0m     data \u001B[38;5;241m=\u001B[39m \u001B[38;5;28;43mself\u001B[39;49m\u001B[38;5;241;43m.\u001B[39;49m\u001B[43m_dataset_fetcher\u001B[49m\u001B[38;5;241;43m.\u001B[39;49m\u001B[43mfetch\u001B[49m\u001B[43m(\u001B[49m\u001B[43mindex\u001B[49m\u001B[43m)\u001B[49m  \u001B[38;5;66;03m# may raise StopIteration\u001B[39;00m\n\u001B[0;32m    672\u001B[0m     \u001B[38;5;28;01mif\u001B[39;00m \u001B[38;5;28mself\u001B[39m\u001B[38;5;241m.\u001B[39m_pin_memory:\n\u001B[0;32m    673\u001B[0m         data \u001B[38;5;241m=\u001B[39m _utils\u001B[38;5;241m.\u001B[39mpin_memory\u001B[38;5;241m.\u001B[39mpin_memory(data, \u001B[38;5;28mself\u001B[39m\u001B[38;5;241m.\u001B[39m_pin_memory_device)\n",
      "File \u001B[1;32mE:\\Install\\Anaconda\\envs\\cuda\\lib\\site-packages\\torch\\utils\\data\\_utils\\fetch.py:58\u001B[0m, in \u001B[0;36m_MapDatasetFetcher.fetch\u001B[1;34m(self, possibly_batched_index)\u001B[0m\n\u001B[0;32m     56\u001B[0m         data \u001B[38;5;241m=\u001B[39m \u001B[38;5;28mself\u001B[39m\u001B[38;5;241m.\u001B[39mdataset\u001B[38;5;241m.\u001B[39m__getitems__(possibly_batched_index)\n\u001B[0;32m     57\u001B[0m     \u001B[38;5;28;01melse\u001B[39;00m:\n\u001B[1;32m---> 58\u001B[0m         data \u001B[38;5;241m=\u001B[39m [\u001B[38;5;28mself\u001B[39m\u001B[38;5;241m.\u001B[39mdataset[idx] \u001B[38;5;28;01mfor\u001B[39;00m idx \u001B[38;5;129;01min\u001B[39;00m possibly_batched_index]\n\u001B[0;32m     59\u001B[0m \u001B[38;5;28;01melse\u001B[39;00m:\n\u001B[0;32m     60\u001B[0m     data \u001B[38;5;241m=\u001B[39m \u001B[38;5;28mself\u001B[39m\u001B[38;5;241m.\u001B[39mdataset[possibly_batched_index]\n",
      "File \u001B[1;32mE:\\Install\\Anaconda\\envs\\cuda\\lib\\site-packages\\torch\\utils\\data\\_utils\\fetch.py:58\u001B[0m, in \u001B[0;36m<listcomp>\u001B[1;34m(.0)\u001B[0m\n\u001B[0;32m     56\u001B[0m         data \u001B[38;5;241m=\u001B[39m \u001B[38;5;28mself\u001B[39m\u001B[38;5;241m.\u001B[39mdataset\u001B[38;5;241m.\u001B[39m__getitems__(possibly_batched_index)\n\u001B[0;32m     57\u001B[0m     \u001B[38;5;28;01melse\u001B[39;00m:\n\u001B[1;32m---> 58\u001B[0m         data \u001B[38;5;241m=\u001B[39m [\u001B[38;5;28;43mself\u001B[39;49m\u001B[38;5;241;43m.\u001B[39;49m\u001B[43mdataset\u001B[49m\u001B[43m[\u001B[49m\u001B[43midx\u001B[49m\u001B[43m]\u001B[49m \u001B[38;5;28;01mfor\u001B[39;00m idx \u001B[38;5;129;01min\u001B[39;00m possibly_batched_index]\n\u001B[0;32m     59\u001B[0m \u001B[38;5;28;01melse\u001B[39;00m:\n\u001B[0;32m     60\u001B[0m     data \u001B[38;5;241m=\u001B[39m \u001B[38;5;28mself\u001B[39m\u001B[38;5;241m.\u001B[39mdataset[possibly_batched_index]\n",
      "Cell \u001B[1;32mIn [55], line 23\u001B[0m, in \u001B[0;36mTest_Dataset.__getitem__\u001B[1;34m(self, index)\u001B[0m\n\u001B[0;32m     21\u001B[0m \u001B[38;5;28;01mfor\u001B[39;00m \u001B[38;5;28mid\u001B[39m \u001B[38;5;129;01min\u001B[39;00m \u001B[38;5;28mself\u001B[39m\u001B[38;5;241m.\u001B[39mimage_id[index]:\n\u001B[0;32m     22\u001B[0m     img_path \u001B[38;5;241m=\u001B[39m os\u001B[38;5;241m.\u001B[39mpath\u001B[38;5;241m.\u001B[39mjoin(\u001B[38;5;28mself\u001B[39m\u001B[38;5;241m.\u001B[39mdata_path, \u001B[38;5;28mstr\u001B[39m(\u001B[38;5;28mid\u001B[39m)\u001B[38;5;241m+\u001B[39m\u001B[38;5;124m'\u001B[39m\u001B[38;5;124m.jpg\u001B[39m\u001B[38;5;124m'\u001B[39m)\n\u001B[1;32m---> 23\u001B[0m     img \u001B[38;5;241m=\u001B[39m \u001B[43mImage\u001B[49m\u001B[38;5;241;43m.\u001B[39;49m\u001B[43mopen\u001B[49m\u001B[43m(\u001B[49m\u001B[43mimg_path\u001B[49m\u001B[43m)\u001B[49m\n\u001B[0;32m     24\u001B[0m     \u001B[38;5;28;01mif\u001B[39;00m \u001B[38;5;28mself\u001B[39m\u001B[38;5;241m.\u001B[39mtransform:\n\u001B[0;32m     25\u001B[0m         \u001B[38;5;66;03m# dont know why all output of the transform are negative\u001B[39;00m\n\u001B[0;32m     26\u001B[0m         img \u001B[38;5;241m=\u001B[39m \u001B[38;5;241m-\u001B[39m\u001B[38;5;28mself\u001B[39m\u001B[38;5;241m.\u001B[39mtransform(img)\n",
      "File \u001B[1;32mE:\\Install\\Anaconda\\envs\\cuda\\lib\\site-packages\\PIL\\Image.py:3092\u001B[0m, in \u001B[0;36mopen\u001B[1;34m(fp, mode, formats)\u001B[0m\n\u001B[0;32m   3089\u001B[0m     filename \u001B[38;5;241m=\u001B[39m fp\n\u001B[0;32m   3091\u001B[0m \u001B[38;5;28;01mif\u001B[39;00m filename:\n\u001B[1;32m-> 3092\u001B[0m     fp \u001B[38;5;241m=\u001B[39m \u001B[43mbuiltins\u001B[49m\u001B[38;5;241;43m.\u001B[39;49m\u001B[43mopen\u001B[49m\u001B[43m(\u001B[49m\u001B[43mfilename\u001B[49m\u001B[43m,\u001B[49m\u001B[43m \u001B[49m\u001B[38;5;124;43m\"\u001B[39;49m\u001B[38;5;124;43mrb\u001B[39;49m\u001B[38;5;124;43m\"\u001B[39;49m\u001B[43m)\u001B[49m\n\u001B[0;32m   3093\u001B[0m     exclusive_fp \u001B[38;5;241m=\u001B[39m \u001B[38;5;28;01mTrue\u001B[39;00m\n\u001B[0;32m   3095\u001B[0m \u001B[38;5;28;01mtry\u001B[39;00m:\n",
      "\u001B[1;31mFileNotFoundError\u001B[0m: [Errno 2] No such file or directory: './train_photos\\\\[[101218, 196237, 321136, 395219, 132538, 235949, 252427, 228860, 445148, 246539, 115506, 351133, 68846, 80873, 262987, 302956, 31829, 309234, 353587, 93673, 441669, 188209, 440799, 354528, 77978, 196675, 246830, 396155, 262503, 468372, 314399, 101732, 438338, 323715, 228107, 248484, 318718, 43660, 388105, 226954, 277974, 403507, 29697, 119678, 292645, 270508, 418426, 156726, 220462, 24637, 113027, 155042, 112745, 322102, 302783, 412715, 197026, 393542, 178389, 53090, 195671, 328543, 64859, 251700, 155578, 8713, 60245, 257498, 51404, 412422, 220067, 243961, 326866, 252112, 194259, 365694, 258517, 31254, 284186, 243140, 84877, 437712, 258079, 65740, 366913, 336555, 100407, 246256, 108267, 383048, 95112, 224602, 267905, 367555, 183932, 193192, 294535, 252569, 156964, 204735, 213599, 168414, 169118, 15656, 288929, 402281, 315675, 392464, 97694, 15332, 142527, 72584, 431834, 463108, 274494, 108234, 218304, 158815, 143802, 61310, 107620, 360815, 357687, 377993, 138493, 408216, 285270, 192196, 304174, 442170, 116520, 268552, 50539, 258650, 229420, 135794, 314283, 41620, 111591, 104332, 160770, 334325, 260783, 229353, 380329, 106359, 334735, 385308, 131225, 333269, 308731, 278360, 398269, 35715, 217206, 111458, 446438, 250182, 87829, 178217, 310774, 342081, 290382, 266640, 207874, 288608, 117517, 22417, 318456, 140408, 452880, 92015, 381436, 166134, 50108, 445367, 72747, 282417, 458027, 449733, 211252, 40718, 136739, 333055, 414056, 250877, 251560, 407203, 93587, 421455, 119987, 209395, 157687, 96567, 366700, 194164, 292323, 319393, 278884, 471693, 135425, 160081, 286972, 168148, 274089, 411900, 392472, 444747, 213959, 136973, 115669, 285824, 29768, 51648, 87123, 41951, 324166, 402527, 369406, 283969, 227973, 275208, 228411, 370651, 361148, 333101, 259604, 107965, 330365, 9068, 208424, 424644, 351785, 386973, 218801, 259521, 201349, 348272, 287400, 132739, 242767, 193100, 398854, 227329, 345567, 154837, 338964, 3620, 128837, 66124, 75938, 130467, 101677, 213937, 340372, 89711, 443691, 40805, 264350, 176180, 277001, 43490, 27059, 138785, 33119, 262655, 236835, 280108, 329850, 224782, 289571, 157791, 161773, 88435, 178097, 456272, 449330, 203892, 457993, 147212, 51182, 406199, 297070, 112540, 203173, 127465, 182041, 364486, 39294, 145171, 106490, 341270, 234944, 74140, 53699, 126595, 90533, 168715, 365842, 381802, 22559, 67387, 176107, 73515, 251281, 240957, 234892, 2535, 310336, 426555, 406734, 31626, 257011, 61909, 41914, 122399, 188319, 284620, 22927, 248177, 158896, 308261, 59498, 458557, 299599, 83720, 269448, 353043, 233078, 70254, 223670, 191666, 99721, 43125, 74766, 90193, 343992, 12175, 201430, 402047, 23827, 224379, 200744, 270618, 339274, 471012, 270040, 67540, 467270, 270095, 90792, 297445, 130004, 361520, 90769, 390650, 92359, 35900, 96966, 241593, 275733, 173388, 144785, 367606, 464288, 329298, 14222, 123285, 284598, 191376, 253378, 361513, 79157, 385842, 207052, 304130, 348945, 253973, 233191, 409432, 18980]].jpg'"
     ]
    }
   ],
   "source": [
    "label_notation = {0: 'good_for_lunch', 1: 'good_for_dinner', 2: 'takes_reservations',  3: 'outdoor_seating',\n",
    "                  4: 'restaurant_is_expensive', 5: 'has_alcohol', 6: 'has_table_service', 7: 'ambience_is_classy',\n",
    "                  8: 'good_for_kids'}\n",
    "def test(index):\n",
    "    test_dataset = Test_Dataset('./train_photos', test_data.loc[[index]], test_transform);\n",
    "    test_dataloader = DataLoader(test_dataset, batch_size=1)\n",
    "    for imgs,labels in test_dataloader:\n",
    "        imgs=imgs[0].to(device)\n",
    "        with torch.no_grad():\n",
    "            pred = model(imgs)\n",
    "            pred=pred.mean(dim=0)\n",
    "            pred = np.array(np.array(pred.cpu()) >0.5, dtype=float)\n",
    "        predicted_labels = np.array(val_dataset.classes)[np.argwhere(pred > 0)[:, 0]]\n",
    "        true_labels = np.array(val_dataset.classes)[np.argwhere(np.array(labels[0]) > 0)[:, 0]]\n",
    "\n",
    "        result = [label_notation[p] for p in predicted_labels]\n",
    "        expected = [label_notation[p] for p in true_labels]\n",
    "        print(\"business_id: \" + str(test_data.loc[index]['business_id']))\n",
    "        print(\"ground_true: \",expected)\n",
    "        print(\"prediction: \",result)\n",
    "\n",
    "        ids = test_data.loc[index]['photo_id']\n",
    "        print(\"Show 1 image out of \"+str(len(ids)))\n",
    "        id=ids[0]\n",
    "        path = os.path.join(\"./train_photos\", str(id)+'.jpg')\n",
    "        plt.imshow(Image.open(path))\n",
    "        plt.axis('off')\n",
    "        plt.show()\n",
    "test(0)"
   ],
   "metadata": {
    "collapsed": false
   }
  },
  {
   "cell_type": "code",
   "execution_count": null,
   "outputs": [],
   "source": [],
   "metadata": {
    "collapsed": false,
    "pycharm": {
     "is_executing": true
    }
   }
  },
  {
   "cell_type": "code",
   "execution_count": null,
   "outputs": [],
   "source": [],
   "metadata": {
    "collapsed": false,
    "pycharm": {
     "is_executing": true
    }
   }
  },
  {
   "cell_type": "code",
   "execution_count": 58,
   "outputs": [],
   "source": [],
   "metadata": {
    "collapsed": false
   }
  }
 ],
 "metadata": {
  "kernelspec": {
   "display_name": "Python 3 (ipykernel)",
   "language": "python",
   "name": "python3"
  },
  "language_info": {
   "codemirror_mode": {
    "name": "ipython",
    "version": 3
   },
   "file_extension": ".py",
   "mimetype": "text/x-python",
   "name": "python",
   "nbconvert_exporter": "python",
   "pygments_lexer": "ipython3",
   "version": "3.10.6"
  }
 },
 "nbformat": 4,
 "nbformat_minor": 5
}
